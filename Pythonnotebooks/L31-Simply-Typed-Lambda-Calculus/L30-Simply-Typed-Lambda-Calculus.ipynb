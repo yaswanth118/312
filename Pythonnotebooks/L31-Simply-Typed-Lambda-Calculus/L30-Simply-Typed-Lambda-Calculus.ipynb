{
 "cells": [
  {
   "cell_type": "markdown",
   "metadata": {
    "slideshow": {
     "slide_type": "slide"
    }
   },
   "source": [
    "<center> \n",
    "\n",
    "<h1 style=\"text-align:center\"> Simply Typed Lambda Calculus </h1>\n",
    "<h2 style=\"text-align:center\"> Lecture 31 - Oct 6, 10am </h2>\n",
    "</center>"
   ]
  },
  {
   "cell_type": "markdown",
   "metadata": {
    "slideshow": {
     "slide_type": "slide"
    }
   },
   "source": [
    "## Review\n",
    "\n",
    "### Previously\n",
    "\n",
    "* Lambda calculus encodings\n",
    "  + Booleans, Arithmetic, Pairs, Recursion, Lists\n",
    "\n",
    "### Today\n",
    "\n",
    "* Simply Typed Lambda Calculus"
   ]
  },
  {
   "cell_type": "markdown",
   "metadata": {
    "slideshow": {
     "slide_type": "slide"
    }
   },
   "source": [
    "## Need for typing\n",
    "\n",
    "* Consider the untyped lambda calculus\n",
    "  + false = `λx.λy.y`\n",
    "  + 0 = `λs.λn.n`\n",
    "  + nil = `λc.λn.n`\n",
    "* Since everything is encoded as a function...\n",
    "  + We can easily misuse terms…\n",
    "    * false 0 → λy.y\n",
    "    * if 0 then ...\n",
    "  + …because everything evaluates to some function"
   ]
  },
  {
   "cell_type": "markdown",
   "metadata": {
    "slideshow": {
     "slide_type": "slide"
    }
   },
   "source": [
    "## How to fix these errors?\n",
    "\n",
    "<center>\n",
    "\n",
    "<h1 style=\"text-align:center\"> <i> Typed </i> Lambda Calculus </h1>\n",
    "</center>\n",
    "\n",
    "$\\newcommand{\\stlc}{\\lambda^{\\rightarrow}}$\n",
    "\n",
    "* Lambda Calculus + Types $\\rightarrow$ Simply Typed Lambda Calculus ($\\stlc$)"
   ]
  },
  {
   "cell_type": "markdown",
   "metadata": {
    "slideshow": {
     "slide_type": "slide"
    }
   },
   "source": [
    "## Simple Types\n",
    "\n",
    "\\\\[\n",
    "\\begin{array}{rcll}\n",
    "A,B & ≔ & \\mathcal{B} & \\text{(base type)} \\\\\n",
    "    & \\mid & A \\rightarrow B & \\text{(functions)} \\\\\n",
    "    & \\mid & A \\times B & \\text{(products)} \\\\\n",
    "    & \\mid & 1 & \\text{(unit)} \\\\\n",
    "\\end{array}\n",
    "\\\\]\n",
    "\n",
    "* $\\mathcal{B}$ is base types like int, bool, float, string, etc.\n",
    "* $\\times$ binds stronger than $\\rightarrow$\n",
    "  + $A \\times B \\rightarrow C~$ is $~(A \\times B) \\rightarrow C$\n",
    "* $\\rightarrow$ is right associative.\n",
    "  + $A \\rightarrow B \\rightarrow C~$ is $~A \\rightarrow (B \\rightarrow C)$\n",
    "  + Same as OCaml\n",
    "  \n",
    "* If we include neither base types nor $1$, the system is degenerate. Why?\n",
    "  + Degenerate = No inhabitant. "
   ]
  },
  {
   "cell_type": "markdown",
   "metadata": {
    "slideshow": {
     "slide_type": "slide"
    }
   },
   "source": [
    "## Raw Terms\n",
    "\n",
    "$\n",
    "\\require{color}\n",
    "\\newcommand{\\cr}[1]{{\\color{\\red}{#1}}}\n",
    "\\newcommand{\\pair}[2]{\\langle #1, #2 \\rangle}\n",
    "\\newcommand{\\fst}[1]{{\\sf fst} ~#1}\n",
    "\\newcommand{\\snd}[1]{{\\sf snd} ~#1}\n",
    "\\newcommand{\\inl}[2]{{\\sf inl} ~[#1] ~#2}\n",
    "\\newcommand{\\inr}[2]{{\\sf inr} ~[#1] ~#2}\n",
    "\\newcommand{\\case}[5]{{\\sf match} ~#1~ {\\sf of} ~{\\sf inl}~#2 \\Rightarrow #3 ~|~ {\\sf inr}~#4 \\Rightarrow #5}\n",
    "\\newcommand{\\unitv}{{\\tt (~)}}\n",
    "\\newcommand{\\inferrule}[3]{\\displaystyle{\\frac{#1}{#2}~~{\\small #3}}}\n",
    "\\newcommand{\\infrl}[3]{\\displaystyle{\\frac{#1}{#2}}}\n",
    "\\newcommand{\\yb}[1]{\\colorbox{yellow}{$#1$}}\n",
    "\\newcommand{\\bb}[1]{\\colorbox{lightblue}{$#1$}}\n",
    "$\n",
    "\n",
    "\\\\[\n",
    "\\begin{array}{rcll}\n",
    "M,N & ≔ & x & \\text{(variable)} \\\\\n",
    "    & \\mid & M~N & \\text{(application)} \\\\\n",
    "    & \\mid & \\lambda x:A.M & \\text{(abstraction)}\\\\\n",
    "    & \\mid & \\pair{M}{N} & \\text{(pair)}\\\\\n",
    "    & \\mid & \\fst{M} & \\text{(project-1)}\\\\\n",
    "    & \\mid & \\snd{M} & \\text{(project-2)} \\\\\n",
    "    & \\mid & \\unitv & \\text{(unit)}\n",
    "\\end{array}\n",
    "\\\\]"
   ]
  },
  {
   "cell_type": "markdown",
   "metadata": {
    "slideshow": {
     "slide_type": "slide"
    }
   },
   "source": [
    "## Typing Judgements\n",
    "\n",
    "* $\\bb{M : A}$ means that the term $M$ has type $A$.\n",
    "* Typing rules are expressed in terms of **typing judgements**.\n",
    "* An expression of form $\\bb{x_1:A_1,x_2:A_2,\\ldots,x_n:A_n \\vdash M : A}$\n",
    "  + Under the assumption $x_1:A_1,x_2:A_2,\\ldots,x_n:A_n$, $M$ has type $A$. \n",
    "  + Assumptions are  types for free variables in $M$.\n",
    "* Use $\\Gamma$ for assumptions.\n",
    "  + $\\bb{\\Gamma \\vdash M : A}$\n",
    "* Assume **no duplicates** in assumptions.\n",
    "  + alpha-convert to remove duplicate names."
   ]
  },
  {
   "cell_type": "markdown",
   "metadata": {
    "slideshow": {
     "slide_type": "slide"
    }
   },
   "source": [
    "## Typing Judgements : Examples\n",
    "\n",
    "\\\\[\n",
    "\\begin{array}{rcl}\n",
    "p:1\\times (1 \\rightarrow 1)                 & \\vdash & \\snd{p} : 1 \\rightarrow 1 \\\\\n",
    "                                            & \\vdash & \\langle \\unitv, \\unitv \\rangle : 1 \\times 1 \\\\\n",
    "f:(1 \\times 1) \\rightarrow 1, x: 1 \\times 1 & \\vdash & f~x : 1 \\\\\n",
    "                                            & \\vdash & (\\lambda x:1.~x) : 1 \\rightarrow 1 \\\\\n",
    "\\end{array}\n",
    "\\\\]\n",
    "\n"
   ]
  },
  {
   "cell_type": "markdown",
   "metadata": {
    "slideshow": {
     "slide_type": "slide"
    }
   },
   "source": [
    "## Quiz \n",
    "\n",
    "Given $\\bb{\\Gamma,x:A,y:B \\vdash M:C}$, which of the following is true? \n",
    "\n",
    "1. $M:C$ holds\n",
    "2. $x \\in \\Gamma$\n",
    "3. $y \\notin \\Gamma$\n",
    "4. $A$ and $B$ may be the same type\n",
    "5. $x$ and $y$ may be the same variable "
   ]
  },
  {
   "cell_type": "markdown",
   "metadata": {
    "slideshow": {
     "slide_type": "slide"
    }
   },
   "source": [
    "## Quiz \n",
    "\n",
    "Given $\\bb{\\Gamma,x:A,y:B \\vdash M:C}$ Which of the following is true? \n",
    "\n",
    "1. $M:C$ holds ❌ ($M$ may not be a closed term) \n",
    "2. $x \\in \\Gamma$ ❌ ($\\Gamma$ has no duplicates)\n",
    "3. $y \\notin \\Gamma$ ✅ ($\\Gamma$ has no duplicates)\n",
    "4. $A$ and $B$ may be the same type ✅ ($A$ and $B$ are type variables)\n",
    "5. $x$ and $y$ may be the same variable ❌($\\Gamma$ has no duplicates)"
   ]
  },
  {
   "cell_type": "markdown",
   "metadata": {
    "slideshow": {
     "slide_type": "slide"
    }
   },
   "source": [
    "## Typing rules for $\\stlc$\n",
    "\n",
    "\\\\[\n",
    "\\begin{array}{cc}\n",
    "\\inferrule{}{\\Gamma,x:A \\vdash x:A}{(var)} &\n",
    "\\inferrule{}{\\Gamma \\vdash \\unitv : 1}{(unit)} \\\\ \\\\\n",
    "\\inferrule{\\Gamma \\vdash M : A \\rightarrow B \\quad \\Gamma \\vdash N : A}{\\Gamma \\vdash M~N : B}{(\\rightarrow elim)} &\n",
    "\\inferrule{\\Gamma,x:A \\vdash M : B}{\\Gamma \\vdash \\lambda x:A.M : A \\rightarrow B}{(\\rightarrow intro)} \\\\ \\\\\n",
    "\\inferrule{\\Gamma \\vdash M : A \\times B}{\\Gamma \\vdash \\fst{M} : A}{(\\times ~elim1)} &\n",
    "\\inferrule{\\Gamma \\vdash M : A \\times B}{\\Gamma \\vdash \\snd{M} : B}{(\\times ~elim2)} \\\\ \\\\\n",
    "\\end{array}\n",
    "\\\\]\n",
    "\n",
    "\\\\[\n",
    "\\inferrule{\\Gamma \\vdash M : A \\quad \\Gamma \\vdash N : B}{\\Gamma \\vdash \\pair{M}{N} : A \\times B}{(\\times ~intro)}\n",
    "\\\\]"
   ]
  },
  {
   "cell_type": "markdown",
   "metadata": {
    "slideshow": {
     "slide_type": "slide"
    }
   },
   "source": [
    "## Typing derivation tree\n",
    "\n",
    "<div style=\"font-size:16px\">    \n",
    "$\n",
    "\\renewcommand{\\arraystretch}{1.5}\n",
    "$\n",
    "    \n",
    "\\\\[\n",
    "\\inferrule{\n",
    "  \\inferrule{\n",
    "    \\inferrule{\n",
    "      \\inferrule{}{x:A \\rightarrow A, y : A \\vdash x: A \\rightarrow A \\vphantom{\\Bigg|}}{(var)}\n",
    "      \\quad\n",
    "      \\inferrule{\n",
    "        \\inferrule{}{x:A \\rightarrow A, y : A \\vdash x: A \\rightarrow A \\vphantom{\\Bigg|}}{(var)}\n",
    "        \\quad\n",
    "        \\inferrule{}{x:A \\rightarrow A, y : A \\vdash y: A \\vphantom{\\Bigg|}}{(var)}\n",
    "      }{x:A \\rightarrow A, y : A \\vdash (x~y) : A \\vphantom{\\Bigg|}}{(\\rightarrow elim)}\n",
    "    }\n",
    "    {x:A \\rightarrow A, y : A \\vdash x~(x~y) : A \\vphantom{\\Bigg|}}{(\\rightarrow elim)}\n",
    "  }\n",
    "  {x:A \\rightarrow A \\vdash (\\lambda y:A. x~(x~y)) : A \\rightarrow A \\vphantom{\\Bigg|}}{(\\rightarrow intro)}\n",
    "}\n",
    "{\\vdash (\\lambda x: A \\rightarrow A. \\lambda y:A. x ~(x ~y)) : (A \\rightarrow A) \\rightarrow A \\rightarrow A \\vphantom{\\Bigg|}}{(\\rightarrow intro)}\n",
    "\\\\]\n",
    "\n",
    "</div>"
   ]
  },
  {
   "cell_type": "markdown",
   "metadata": {
    "slideshow": {
     "slide_type": "slide"
    }
   },
   "source": [
    "## Typing derivation\n",
    "\n",
    "* For each lambda term, there is exactly one type rule that applies.\n",
    "  + Unique rule to lookup during typing derivation."
   ]
  },
  {
   "cell_type": "markdown",
   "metadata": {
    "slideshow": {
     "slide_type": "slide"
    }
   },
   "source": [
    "## Typability\n",
    "\n",
    "* Not all $\\stlc$ terms can be assigned a type. For example,\n",
    "\n",
    "1. $\\bb{\\fst{(\\lambda x.x)}}$\n",
    "2. $\\bb{\\pair{M}{N}~P}$\n",
    "\n",
    "* Surprisingly, we cannot assign a type for $\\bb{\\lambda x.x~x}$ in $\\stlc$ (or OCaml)\n",
    "  + $x$ is applied to itself. So its argument type should the type of $x$!"
   ]
  },
  {
   "cell_type": "markdown",
   "metadata": {
    "slideshow": {
     "slide_type": "slide"
    }
   },
   "source": [
    "## On fst and snd\n",
    "\n",
    "In OCaml, we can define `fst` and `snd` as:"
   ]
  },
  {
   "cell_type": "code",
   "execution_count": 1,
   "metadata": {},
   "outputs": [
    {
     "data": {
      "text/plain": [
       "val fst : 'a * 'b -> 'a = <fun>\n"
      ]
     },
     "execution_count": 1,
     "metadata": {},
     "output_type": "execute_result"
    },
    {
     "data": {
      "text/plain": [
       "val snd : 'a * 'b -> 'b = <fun>\n"
      ]
     },
     "execution_count": 1,
     "metadata": {},
     "output_type": "execute_result"
    }
   ],
   "source": [
    "let fst (a,b) = a\n",
    "let snd (a,b) = b"
   ]
  },
  {
   "cell_type": "markdown",
   "metadata": {
    "slideshow": {
     "slide_type": "fragment"
    }
   },
   "source": [
    "* Observe that the types are polymorphic. \n",
    "* But no polymorphism in $\\stlc$\n",
    "  + `fst` and `snd` are **keywords** in $\\stlc$\n",
    "* For a given type $A \\times B$, we can define \n",
    "  + $\\bb{(\\lambda p:A \\times B.~\\fst{p})}:\\yb{A \\times B \\rightarrow A}$\n",
    "  + $\\bb{(\\lambda p:A \\times B.~\\snd{p})}:\\yb{A \\times B \\rightarrow B}$ "
   ]
  }
 ],
 "metadata": {
  "celltoolbar": "Slideshow",
  "kernelspec": {
   "display_name": "Python 3",
   "language": "python",
   "name": "python3"
  },
  "language_info": {
   "codemirror_mode": {
    "name": "ipython",
    "version": 3
   },
   "file_extension": ".py",
   "mimetype": "text/x-python",
   "name": "python",
   "nbconvert_exporter": "python",
   "pygments_lexer": "ipython3",
   "version": "3.7.6"
  }
 },
 "nbformat": 4,
 "nbformat_minor": 2
}
