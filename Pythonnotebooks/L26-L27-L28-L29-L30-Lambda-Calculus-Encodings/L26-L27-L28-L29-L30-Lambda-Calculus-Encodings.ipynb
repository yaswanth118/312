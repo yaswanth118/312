{
 "cells": [
  {
   "cell_type": "markdown",
   "metadata": {
    "slideshow": {
     "slide_type": "slide"
    }
   },
   "source": [
    "<center>\n",
    "<h1 style=\"text-align:center\"> CS3100-2021 - Lambda Calculus : Encodings</h1>    \n",
    "</center>\n",
    "\n",
    "* Lecture 26 - Tue, Sep 28, 11:00\n",
    "* Lecture 27 - Wed, Sep 29, 10:00\n",
    "* Lecture 28 - Thu, Sep 30, 08:00\n",
    "* Lecture 29 - Fri, Oct 01, 04:50\n",
    "* Lecture 30 - Tue, Oct 05, 11:00\n",
    "\n"
   ]
  },
  {
   "cell_type": "markdown",
   "metadata": {
    "slideshow": {
     "slide_type": "slide"
    }
   },
   "source": [
    "## Context\n",
    "\n",
    "### Previously\n",
    "\n",
    "* Semantics of untyped lambda calculus\n",
    "  + β-reductions, reduction strategies, normal forms, extensionality\n",
    "  \n",
    "### Today\n",
    "\n",
    "* Encodings\n",
    "  + Booleans, Arithmetic, Pairs, Recursion"
   ]
  },
  {
   "cell_type": "markdown",
   "metadata": {
    "slideshow": {
     "slide_type": "slide"
    }
   },
   "source": [
    "## Power of Lambdas\n",
    "\n",
    "* Despite its simplicity, the lambda calculus is quite expressive: it is **Turing complete**!\n",
    "* Means we can encode any computation we want\n",
    "  + if we are sufficiently clever...\n",
    "* Examples\n",
    "  + Booleans & predicate logic.\n",
    "  + Pairs\n",
    "  + Lists\n",
    "  + Natural numbers & arithmetic.\n",
    "  \n",
    "$\\newcommand{\\br}{\\rightarrow_{\\beta}}$"
   ]
  },
  {
   "cell_type": "code",
   "execution_count": null,
   "metadata": {
    "slideshow": {
     "slide_type": "slide"
    }
   },
   "outputs": [],
   "source": [
    "#use \"init.ml\"\n",
    "\n",
    "let p = Lambda_parse.parse_string                                                   \n",
    "let var x = Var x                                                                 \n",
    "let app l =\n",
    "  match l with \n",
    "  | [] -> failwith \"ill typed app\"\n",
    "  | [x] -> x\n",
    "  | x::y::xs -> List.fold_left (fun expr v -> App (expr, v)) (App(x,y)) xs\n",
    "let lam x e = Lam(x,e)                                                              \n",
    "                                                                                    \n",
    "let eval ?(log=true) ?(depth=1000) s = \n",
    "     s  \n",
    "  |> Eval.eval ~log ~depth Eval.reduce_normal \n",
    "  |> Syntax.string_of_expr"
   ]
  },
  {
   "cell_type": "code",
   "execution_count": null,
   "metadata": {},
   "outputs": [],
   "source": [
    "p \"\\\\x.x\";;\n",
    "var \"x\";;\n",
    "app [var \"x\"; var \"y\"; var \"z\"];;\n",
    "lam \"x\" (var \"y\");;"
   ]
  },
  {
   "cell_type": "markdown",
   "metadata": {
    "slideshow": {
     "slide_type": "slide"
    }
   },
   "source": [
    "## Booleans"
   ]
  },
  {
   "cell_type": "code",
   "execution_count": null,
   "metadata": {
    "slideshow": {
     "slide_type": "fragment"
    }
   },
   "outputs": [],
   "source": [
    "let tru = p \"\\\\t.\\\\f.t\"\n",
    "let fls = p \"\\\\t.\\\\f.f\""
   ]
  },
  {
   "cell_type": "markdown",
   "metadata": {
    "slideshow": {
     "slide_type": "fragment"
    }
   },
   "source": [
    "* Now we can define a `test` function such that\n",
    "  + `test tru v w` $\\br$ `v`\n",
    "  + `test fls v w` $\\br$ `w`"
   ]
  },
  {
   "cell_type": "code",
   "execution_count": null,
   "metadata": {
    "slideshow": {
     "slide_type": "fragment"
    }
   },
   "outputs": [],
   "source": [
    "let test = p \"\\\\l.\\\\m.\\\\n.l m n\""
   ]
  },
  {
   "cell_type": "markdown",
   "metadata": {
    "slideshow": {
     "slide_type": "slide"
    }
   },
   "source": [
    "## Booleans\n",
    "\n",
    "Now \n",
    "\n",
    "```ocaml\n",
    "test tru v w\n",
    "```\n",
    "\n",
    "evaluates to"
   ]
  },
  {
   "cell_type": "code",
   "execution_count": null,
   "metadata": {
    "slideshow": {
     "slide_type": "fragment"
    }
   },
   "outputs": [],
   "source": [
    "eval @@ app [test; tru1; lam \"x\" (var \"x\"); lam \"x\" (lam \"y\" (var \"x\"))]"
   ]
  },
  {
   "cell_type": "markdown",
   "metadata": {
    "slideshow": {
     "slide_type": "slide"
    }
   },
   "source": [
    "## Booleans\n",
    "\n",
    "Similarly,\n",
    "\n",
    "```ocaml\n",
    "test fls v w\n",
    "```\n",
    "\n",
    "evaluates to"
   ]
  },
  {
   "cell_type": "code",
   "execution_count": null,
   "metadata": {},
   "outputs": [],
   "source": [
    "eval @@ app [test; fls; var \"v\"; var \"w\"]"
   ]
  },
  {
   "cell_type": "markdown",
   "metadata": {
    "slideshow": {
     "slide_type": "slide"
    }
   },
   "source": [
    "## Booleans"
   ]
  },
  {
   "cell_type": "markdown",
   "metadata": {
    "slideshow": {
     "slide_type": "-"
    }
   },
   "source": [
    "`fls` itself is a function. `test fls v w` is equivalent to `fls v w`."
   ]
  },
  {
   "cell_type": "code",
   "execution_count": null,
   "metadata": {
    "slideshow": {
     "slide_type": "fragment"
    }
   },
   "outputs": [],
   "source": [
    "eval @@ app [fls; var \"v\"; var \"w\"]"
   ]
  },
  {
   "cell_type": "markdown",
   "metadata": {
    "slideshow": {
     "slide_type": "slide"
    }
   },
   "source": [
    "## Logical operators\n",
    "\n",
    "```ocaml\n",
    "and = λb.λc.b c fls\n",
    "or = λb.λc.b tru c\n",
    "not = λb.b fls tru\n",
    "```"
   ]
  },
  {
   "cell_type": "code",
   "execution_count": null,
   "metadata": {
    "slideshow": {
     "slide_type": "fragment"
    }
   },
   "outputs": [],
   "source": [
    "let and_ = lam \"b\" (lam \"c\" (app [var \"b\"; var \"c\"; fls]))\n",
    "let or_ = lam \"b\" (lam \"c\" (app [var \"b\"; tru; var \"c\"]))\n",
    "let not_ = lam \"b\" (app [var \"b\"; fls; tru])"
   ]
  },
  {
   "cell_type": "markdown",
   "metadata": {
    "slideshow": {
     "slide_type": "slide"
    }
   },
   "source": [
    "## Logical Operators"
   ]
  },
  {
   "cell_type": "code",
   "execution_count": null,
   "metadata": {
    "slideshow": {
     "slide_type": "-"
    }
   },
   "outputs": [],
   "source": [
    "eval @@ app [and_; tru; fls]"
   ]
  },
  {
   "cell_type": "markdown",
   "metadata": {
    "slideshow": {
     "slide_type": "fragment"
    }
   },
   "source": [
    "The above is a **proof** for `true /\\ false = false`"
   ]
  },
  {
   "cell_type": "markdown",
   "metadata": {
    "slideshow": {
     "slide_type": "slide"
    }
   },
   "source": [
    "## Logical operators\n",
    "\n",
    "Encode implies using standard formulation.\n",
    "\n",
    "\\\\[\n",
    "\\begin{array}{rl}\n",
    " & p \\implies q \\equiv \\neg p \\vee q \\\\\n",
    "\\mathbf{Theorem 1.}  & \\forall a,b.~ a \\wedge b \\implies a\n",
    "\\end{array}\n",
    "\\\\]"
   ]
  },
  {
   "cell_type": "code",
   "execution_count": null,
   "metadata": {
    "slideshow": {
     "slide_type": "fragment"
    }
   },
   "outputs": [],
   "source": [
    "let implies = lam \"p\" (lam \"q\" (app [or_; app [not_; var \"p\"]; var \"q\"]))\n",
    "let thm1 = lam \"a\" (lam \"b\" (app [implies; app [and_; var \"a\"; var \"b\"]; var \"a\"]))"
   ]
  },
  {
   "cell_type": "markdown",
   "metadata": {
    "slideshow": {
     "slide_type": "slide"
    }
   },
   "source": [
    "## Logical operators\n",
    "\n",
    "Prove $~~\\forall a,b. a \\wedge b \\implies a~~$ by case analysis:"
   ]
  },
  {
   "cell_type": "code",
   "execution_count": null,
   "metadata": {},
   "outputs": [],
   "source": [
    "eval ~log:false (app [thm1; tru; tru])"
   ]
  },
  {
   "cell_type": "code",
   "execution_count": null,
   "metadata": {},
   "outputs": [],
   "source": [
    "eval ~log:false (app [thm1; tru; fls])"
   ]
  },
  {
   "cell_type": "code",
   "execution_count": null,
   "metadata": {},
   "outputs": [],
   "source": [
    "eval ~log:false (app [thm1; fls; tru])"
   ]
  },
  {
   "cell_type": "code",
   "execution_count": null,
   "metadata": {},
   "outputs": [],
   "source": [
    "eval ~log:false (app [thm1; fls; fls])"
   ]
  },
  {
   "cell_type": "markdown",
   "metadata": {
    "slideshow": {
     "slide_type": "fragment"
    }
   },
   "source": [
    "**QED.**"
   ]
  },
  {
   "cell_type": "markdown",
   "metadata": {
    "slideshow": {
     "slide_type": "slide"
    }
   },
   "source": [
    "## Quiz\n",
    "\n",
    "What is the lambda calculus encoding for `xor x y`\n",
    "\n",
    "| x | y | xor x y |\n",
    "|---|---|:-------:|\n",
    "| T | T |    F    |\n",
    "| T | F |    T    |\n",
    "| F | T |    T    |\n",
    "| F | F |    F    |\n",
    "\n",
    "1. x x y\n",
    "2. x (y tru fls) y\n",
    "3. x (y fls tru) y\n",
    "4. y x y"
   ]
  },
  {
   "cell_type": "markdown",
   "metadata": {
    "slideshow": {
     "slide_type": "slide"
    }
   },
   "source": [
    "## Quiz\n",
    "\n",
    "What is the lambda calculus encoding for `xor x y`\n",
    "\n",
    "| x | y | xor x y |\n",
    "|---|---|:-------:|\n",
    "| T | T |    F    |\n",
    "| T | F |    T    |\n",
    "| F | T |    T    |\n",
    "| F | F |    F    |\n",
    "\n",
    "1. x x y\n",
    "2. x (y tru fls) y\n",
    "3. x (y fls tru) y ✅\n",
    "4. y x y"
   ]
  },
  {
   "cell_type": "markdown",
   "metadata": {
    "slideshow": {
     "slide_type": "slide"
    }
   },
   "source": [
    "## Pairs"
   ]
  },
  {
   "cell_type": "code",
   "execution_count": null,
   "metadata": {},
   "outputs": [],
   "source": [
    "let mk_pair x y = (x,y)\n",
    "let fst (x,y) = x\n",
    "let snd (x,y) = y"
   ]
  },
  {
   "cell_type": "markdown",
   "metadata": {
    "slideshow": {
     "slide_type": "slide"
    }
   },
   "source": [
    "## Pairs\n",
    "\n",
    "* Encoding of a pair `(f,s)`\n",
    "  + Pair Constructor : (f,s) = λf.λs.λb.b f s"
   ]
  },
  {
   "cell_type": "code",
   "execution_count": null,
   "metadata": {},
   "outputs": [],
   "source": [
    "let pair = p \"λf.λs.λb.b f s\""
   ]
  },
  {
   "cell_type": "markdown",
   "metadata": {
    "slideshow": {
     "slide_type": "slide"
    }
   },
   "source": [
    "## Pairs"
   ]
  },
  {
   "cell_type": "code",
   "execution_count": null,
   "metadata": {},
   "outputs": [],
   "source": [
    "eval @@ app [pair; var \"v\"; var \"w\"]"
   ]
  },
  {
   "cell_type": "markdown",
   "metadata": {},
   "source": [
    "* The pair **value** is a function that takes a **boolean** as an argument and applies the elements of the pair to it.\n",
    "* `b` is a boolean is a **convention** that we should follow.\n",
    "  + No type safety."
   ]
  },
  {
   "cell_type": "markdown",
   "metadata": {
    "slideshow": {
     "slide_type": "slide"
    }
   },
   "source": [
    "## Pair accessor functions\n",
    "\n",
    "* Recall that a pair value is a function `λb.b v w` \n",
    "  + where `v` and `w` are the first and second elements of the pair.\n",
    "* We can define accessors `fst` and `snd` as follows:\n",
    "  + fst = λp.p tru\n",
    "  + snd = λp.p fls"
   ]
  },
  {
   "cell_type": "code",
   "execution_count": null,
   "metadata": {},
   "outputs": [],
   "source": [
    "let fst = lam \"p\" (app [var \"p\"; tru])\n",
    "let snd = lam \"p\" (app [var \"p\"; fls])"
   ]
  },
  {
   "cell_type": "markdown",
   "metadata": {
    "slideshow": {
     "slide_type": "slide"
    }
   },
   "source": [
    "## Pair accessor functions"
   ]
  },
  {
   "cell_type": "code",
   "execution_count": null,
   "metadata": {
    "scrolled": false
   },
   "outputs": [],
   "source": [
    "eval ~log:true @@ app [fst; app[pair; var \"v\"; var \"w\"]]"
   ]
  },
  {
   "cell_type": "code",
   "execution_count": null,
   "metadata": {},
   "outputs": [],
   "source": [
    "eval ~log:true @@ app [snd; app [pair; var \"v\"; var \"w\"]]"
   ]
  },
  {
   "cell_type": "markdown",
   "metadata": {
    "slideshow": {
     "slide_type": "slide"
    }
   },
   "source": [
    "## Pair swap function\n",
    "\n",
    "In OCaml,\n",
    "\n",
    "```ocaml\n",
    "let swap p = (snd p, fst p)\n",
    "```\n",
    "\n",
    "In lambda calculus,\n",
    "\n",
    "```ocaml\n",
    "swap = λp.λb.b (snd p) (fst p)\n",
    "```"
   ]
  },
  {
   "cell_type": "code",
   "execution_count": null,
   "metadata": {},
   "outputs": [],
   "source": [
    "let swap = lam \"p\" (lam \"b\" (app [var \"b\"; app [snd;var \"p\"]; app [fst; var \"p\"]]))"
   ]
  },
  {
   "cell_type": "markdown",
   "metadata": {
    "slideshow": {
     "slide_type": "slide"
    }
   },
   "source": [
    "## Pair swap function\n",
    "\n",
    "Let's try\n",
    "\n",
    "```ocaml\n",
    "fst (swap (v,w))\n",
    "```"
   ]
  },
  {
   "cell_type": "code",
   "execution_count": null,
   "metadata": {},
   "outputs": [],
   "source": [
    "eval ~log:true @@ app [snd; app [swap; app[pair; var \"v\"; var \"w\"]]]"
   ]
  },
  {
   "cell_type": "markdown",
   "metadata": {
    "slideshow": {
     "slide_type": "slide"
    }
   },
   "source": [
    "## Natural numbers\n",
    "\n",
    "* 0 = λs.λz.z\n",
    "* 1 = λs.λz.s z\n",
    "* 2 = λs.λz.s (s z)\n",
    "* 3 = λs.λz.s (s (s z))\n",
    "\n",
    "i.e., n = λs.λz.(apply `s` n times to `z`)\n",
    "\n",
    "Also known as **Church numerals**."
   ]
  },
  {
   "cell_type": "markdown",
   "metadata": {
    "slideshow": {
     "slide_type": "slide"
    }
   },
   "source": [
    "## Natural numbers"
   ]
  },
  {
   "cell_type": "code",
   "execution_count": null,
   "metadata": {
    "slideshow": {
     "slide_type": "-"
    }
   },
   "outputs": [],
   "source": [
    "let zero = p (\"λs.λz.z\")\n",
    "let one = p (\"λs.λz.s z\")\n",
    "let two = p (\"λs.λz.s (s z)\")\n",
    "let three = p (\"λs.λz.s (s (s z))\")"
   ]
  },
  {
   "cell_type": "markdown",
   "metadata": {
    "slideshow": {
     "slide_type": "slide"
    }
   },
   "source": [
    "## Quiz\n",
    "\n",
    "What will be the OCaml type of church encoded number 2: $\\lambda s.\\lambda z.s (s ~z)$?\n",
    "\n",
    "1. `('a -> 'b) -> 'a -> 'b`\n",
    "2. `('a -> 'a) -> 'a -> 'a` \n",
    "3. `('a -> 'a) -> 'b -> int`\n",
    "4. `(int -> int) -> int -> int`"
   ]
  },
  {
   "cell_type": "markdown",
   "metadata": {
    "slideshow": {
     "slide_type": "slide"
    }
   },
   "source": [
    "## Quiz\n",
    "\n",
    "What will be the OCaml type of church encoded number 2: $\\lambda s.\\lambda z.s~(s ~z)$?\n",
    "\n",
    "1. `('a -> 'b) -> 'a -> 'b`\n",
    "2. `('a -> 'a) -> 'a -> 'a` ✅\n",
    "3. `('a -> 'a) -> 'b -> int`\n",
    "4. `(int -> int) -> int -> int`"
   ]
  },
  {
   "cell_type": "markdown",
   "metadata": {
    "slideshow": {
     "slide_type": "slide"
    }
   },
   "source": [
    "## Operations on numbers: Successor\n",
    "\n",
    "Successor function is:\n",
    "\n",
    "```ocaml\n",
    "scc = λn.λs.λz.s (n s z)\n",
    "```"
   ]
  },
  {
   "cell_type": "code",
   "execution_count": null,
   "metadata": {
    "slideshow": {
     "slide_type": "fragment"
    }
   },
   "outputs": [],
   "source": [
    "let scc = p (\"λn.λs.λz.s (n s z)\")"
   ]
  },
  {
   "cell_type": "code",
   "execution_count": null,
   "metadata": {
    "scrolled": true,
    "slideshow": {
     "slide_type": "-"
    }
   },
   "outputs": [],
   "source": [
    "eval @@ app [scc; one]"
   ]
  },
  {
   "cell_type": "markdown",
   "metadata": {
    "slideshow": {
     "slide_type": "slide"
    }
   },
   "source": [
    "## Operations on numbers : is_zero\n",
    "\n",
    "Check if the given number is zero:\n",
    "\n",
    "```ocaml\n",
    "is_zero = λn.n (λy.fls) tru\n",
    "```"
   ]
  },
  {
   "cell_type": "code",
   "execution_count": null,
   "metadata": {
    "slideshow": {
     "slide_type": "fragment"
    }
   },
   "outputs": [],
   "source": [
    "let is_zero = lam \"n\" (app [var \"n\"; lam \"y\" fls; tru])"
   ]
  },
  {
   "cell_type": "markdown",
   "metadata": {
    "slideshow": {
     "slide_type": "slide"
    }
   },
   "source": [
    "## Operations on numbers : is_zero"
   ]
  },
  {
   "cell_type": "code",
   "execution_count": null,
   "metadata": {},
   "outputs": [],
   "source": [
    "eval @@ app [is_zero; zero]"
   ]
  },
  {
   "cell_type": "code",
   "execution_count": null,
   "metadata": {},
   "outputs": [],
   "source": [
    "eval @@ app [is_zero; two]"
   ]
  },
  {
   "cell_type": "markdown",
   "metadata": {
    "slideshow": {
     "slide_type": "slide"
    }
   },
   "source": [
    "## Arithmetic\n",
    "\n",
    "```ocaml\n",
    "plus = λm.λn.λs.λz.m s (n s z)\n",
    "mult = λm.λn.λs.λz.m (n s) z\n",
    "```"
   ]
  },
  {
   "cell_type": "code",
   "execution_count": null,
   "metadata": {
    "slideshow": {
     "slide_type": "fragment"
    }
   },
   "outputs": [],
   "source": [
    "let plus = p (\"λm.λn.λs.λz.m s (n s z)\")\n",
    "let mult = p (\"λm.λn.λs.λz.m (n s) z\")"
   ]
  },
  {
   "cell_type": "markdown",
   "metadata": {
    "slideshow": {
     "slide_type": "slide"
    }
   },
   "source": [
    "## Arithmetic: addition"
   ]
  },
  {
   "cell_type": "code",
   "execution_count": null,
   "metadata": {
    "scrolled": false
   },
   "outputs": [],
   "source": [
    "eval @@ app [plus; one; two]"
   ]
  },
  {
   "cell_type": "markdown",
   "metadata": {
    "slideshow": {
     "slide_type": "fragment"
    }
   },
   "source": [
    "Proves 1 + 2 = 3. Can build a theory of arithmetic over lambda calculus."
   ]
  },
  {
   "cell_type": "markdown",
   "metadata": {
    "slideshow": {
     "slide_type": "slide"
    }
   },
   "source": [
    "## Arithmetic: multiplication"
   ]
  },
  {
   "cell_type": "code",
   "execution_count": null,
   "metadata": {
    "scrolled": true
   },
   "outputs": [],
   "source": [
    "eval @@ app [mult; two; three]"
   ]
  },
  {
   "cell_type": "markdown",
   "metadata": {
    "slideshow": {
     "slide_type": "slide"
    }
   },
   "source": [
    "## Arithmetic: predecessor\n",
    "\n",
    "It turns out predecessor function is much more tricky compared to successor. \n",
    "\n",
    "```ocaml\n",
    "zz = pair zero zero\n",
    "ss = λp. pair (snd p) (plus one (snd p))\n",
    "```"
   ]
  },
  {
   "cell_type": "markdown",
   "metadata": {
    "slideshow": {
     "slide_type": "fragment"
    }
   },
   "source": [
    "```ocaml\n",
    "zz = (0,0)\n",
    "ss zz = (0,1)\n",
    "ss (ss zz) = (1,2)\n",
    "ss (ss (ss zz)) = (2,3)\n",
    "```\n",
    "etc."
   ]
  },
  {
   "cell_type": "markdown",
   "metadata": {
    "slideshow": {
     "slide_type": "slide"
    }
   },
   "source": [
    "## Arithmetic: predecessor\n",
    "\n",
    "It turns out predecessor function is much more tricky compared to successor. \n",
    "\n",
    "```ocaml\n",
    "zz = pair zero zero\n",
    "ss = λp. pair (snd p) (plus one (snd p))\n",
    "prd = λm. fst (m ss zz)\n",
    "```"
   ]
  },
  {
   "cell_type": "code",
   "execution_count": null,
   "metadata": {
    "slideshow": {
     "slide_type": "fragment"
    }
   },
   "outputs": [],
   "source": [
    "let zz = app [pair; zero; zero]\n",
    "let ss = lam \"p\" (app [pair; app [snd; var \"p\"]; app [plus; one; app [snd; var \"p\"]]])\n",
    "let prd = lam \"m\" (app [fst; app [var \"m\"; ss; zz]])"
   ]
  },
  {
   "cell_type": "markdown",
   "metadata": {
    "slideshow": {
     "slide_type": "slide"
    }
   },
   "source": [
    "## Arithmetic: Predecessor"
   ]
  },
  {
   "cell_type": "code",
   "execution_count": null,
   "metadata": {},
   "outputs": [],
   "source": [
    "eval ~log:false @@ app [prd; three]"
   ]
  },
  {
   "cell_type": "code",
   "execution_count": null,
   "metadata": {},
   "outputs": [],
   "source": [
    "eval ~log:false @@ app [prd; zero]"
   ]
  },
  {
   "cell_type": "markdown",
   "metadata": {
    "slideshow": {
     "slide_type": "slide"
    }
   },
   "source": [
    "## Arithmetic: Subtraction\n",
    "\n",
    "`sub` computes `m-n`:\n",
    "\n",
    "```ocaml\n",
    "sub = λm.λn.n prd m\n",
    "```\n",
    "\n",
    "Intuition: apply predecessor `n` times on `m`."
   ]
  },
  {
   "cell_type": "code",
   "execution_count": null,
   "metadata": {},
   "outputs": [],
   "source": [
    "let sub = lam \"m\" (lam \"n\" (app [var \"n\"; prd; var \"m\"]))"
   ]
  },
  {
   "cell_type": "markdown",
   "metadata": {
    "slideshow": {
     "slide_type": "slide"
    }
   },
   "source": [
    "## Arithmetic: Subtraction"
   ]
  },
  {
   "cell_type": "code",
   "execution_count": null,
   "metadata": {},
   "outputs": [],
   "source": [
    "eval ~log:false @@ app [sub; three; two]"
   ]
  },
  {
   "cell_type": "code",
   "execution_count": null,
   "metadata": {},
   "outputs": [],
   "source": [
    "eval ~log:false @@ app [sub; two; three]"
   ]
  },
  {
   "cell_type": "markdown",
   "metadata": {
    "slideshow": {
     "slide_type": "slide"
    }
   },
   "source": [
    "## Arithmetic: equal\n",
    "\n",
    "* `m - n = 0` $\\implies$ `m = n`.\n",
    "  + But we operate on natural numbers.\n",
    "  + `3 - 4 = 0` $\\implies$ `3 = 4`.\n",
    "* `m - n = 0 && n - m = 0` $\\implies$ `m = n`."
   ]
  },
  {
   "cell_type": "code",
   "execution_count": null,
   "metadata": {},
   "outputs": [],
   "source": [
    "let equal = \n",
    "  let mnz = app [is_zero; app [sub; var \"m\"; var \"n\"]] in\n",
    "  let nmz = app [is_zero; app [sub; var \"n\"; var \"m\"]] in\n",
    "  lam \"m\" (lam \"n\" (app [and_; mnz; nmz]))"
   ]
  },
  {
   "cell_type": "markdown",
   "metadata": {
    "slideshow": {
     "slide_type": "slide"
    }
   },
   "source": [
    "## Arithmetic: equal"
   ]
  },
  {
   "cell_type": "code",
   "execution_count": null,
   "metadata": {},
   "outputs": [],
   "source": [
    "eval ~log:false @@ app [equal; two; two]"
   ]
  },
  {
   "cell_type": "code",
   "execution_count": null,
   "metadata": {},
   "outputs": [],
   "source": [
    "eval ~log:false @@ app [equal; app[sub; three; two]; two]"
   ]
  },
  {
   "cell_type": "code",
   "execution_count": null,
   "metadata": {},
   "outputs": [],
   "source": [
    "eval ~log:true @@ app [equal; app[sub; two; three]; zero]"
   ]
  },
  {
   "cell_type": "markdown",
   "metadata": {
    "slideshow": {
     "slide_type": "slide"
    }
   },
   "source": [
    "## Fixed points or How to get non-termination\n",
    "\n",
    "* Given a function $f$ and some value $x$, if $f(x) = x$ then $x$ is said to be a fixed point for $f$.\n",
    "  + $f(x) = x^2$ has two fixed points 0 and 1. \n",
    "  + $f(x) = x + 1$ has no fixed points.\n",
    "* For lambda calculus, $N$ is said to be a fixed point of $F$ if $F ~N =_{\\beta} N$\n",
    "  + In the untyped lambda calculus, **every term F has a fixed point!**"
   ]
  },
  {
   "cell_type": "markdown",
   "metadata": {
    "slideshow": {
     "slide_type": "slide"
    }
   },
   "source": [
    "## Fixed points\n",
    "\n",
    "* Let `D = λx.x x`, then\n",
    "  + $\\Omega =$ `D D = (λx.x x) (λx.x x)` $\\rightarrow_{\\beta}$ `(λx.x x) (λx.x x)` $= \\Omega$.\n",
    "* So $\\Omega$ is an infinite loop\n",
    "  + In general, self-application is how you get looping"
   ]
  },
  {
   "cell_type": "markdown",
   "metadata": {
    "slideshow": {
     "slide_type": "slide"
    }
   },
   "source": [
    "## Fixed points\n",
    "\n",
    "$\n",
    "\\require{color}\n",
    "\\newcommand{\\yb}[1]{\\colorbox{yellow}{$#1$}}\n",
    "\\newcommand{\\bb}[1]{\\colorbox{lightblue}{$#1$}}\n",
    "$\n",
    "We know $\\Omega = (\\lambda x.x ~x) ~(\\lambda x.x ~x)$.\n",
    "\n",
    "Let $Y = \\bb{\\lambda f}.(\\lambda x.\\bb{f} ~(x ~x)) ~(\\lambda x.\\bb{f} ~(x ~x))$, then\n",
    "\n",
    "\\\\[\n",
    "\\begin{array}{rl}\n",
    "& Y ~F = (\\lambda \\yb{f}.(\\lambda x.f ~(x ~x)) ~(\\lambda x.f ~(x ~x))) ~F \\\\\n",
    "\\rightarrow_{\\beta} & (\\lambda \\yb{x}.F ~(x ~x)) ~\\yb{(\\lambda x.F ~(x ~x))} \\\\\n",
    "\\rightarrow_{\\beta} & F \\yb{((λx.F ~(x ~x)) ~(λx.F ~(x ~x)))} \\\\\n",
    "\\leftarrow_{\\beta} & F ~(Y ~F)\n",
    "\\end{array}\n",
    "\\\\]\n",
    "\n",
    "* Therefore, `Y F = F(Y F)`. "
   ]
  },
  {
   "cell_type": "markdown",
   "metadata": {
    "slideshow": {
     "slide_type": "slide"
    }
   },
   "source": [
    "## Fixed points\n",
    "\n",
    "\\\\[\n",
    "Y~F \\rightarrow_{\\beta} F~(Y~F)\n",
    "\\\\]\n",
    "+ `Y F` is said to be the fixed point of `F`.\n",
    "+ `Y F = F(Y F) = F(F(Y F)) = ...`\n",
    "+ `Y` (`y`-combinator) can be used to achieve recursion."
   ]
  },
  {
   "cell_type": "markdown",
   "metadata": {
    "slideshow": {
     "slide_type": "slide"
    }
   },
   "source": [
    "## Fixed point: Factorial\n",
    "\n",
    "```ocaml\n",
    "fact = λf.λn.if n = 0 then 1 else n * f (n-1)\n",
    "```\n",
    "\n",
    "* Second argument `n` is the integer.\n",
    "* First argument `f` is the function to call for the recursive case.\n",
    "* We will use y-combinator to achieve recursion. "
   ]
  },
  {
   "cell_type": "markdown",
   "metadata": {
    "slideshow": {
     "slide_type": "slide"
    }
   },
   "source": [
    "## Fixed point: Factorial\n",
    "```ocaml\n",
    "fact = λf.λn.if n = 0 then 1 else n * f (n-1)\n",
    "```\n",
    "\n",
    "\\\\[\n",
    "\\begin{array}{rl}\n",
    "& (Y ~\\text{fact}) ~1 \\\\ \n",
    "\\rightarrow_{beta} & ~\\text{fact} ~(\\lambda y ~Y ~\\text{fact} ~y) 1 \\\\\n",
    "\\rightarrow_{beta} & \\text{if } 1 = 0 \\text{ then } 1 \\text{ else } 1 * ((Y \\text{ fact}) ~0) \\\\\n",
    "\\rightarrow_{beta} & 1 * ((Y \\text{ fact}) ~0) \\\\\n",
    "\\rightarrow_{beta} & 1 * (\\text{fact } (Y \\text{ fact}) ~0) \\\\\n",
    "\\rightarrow_{beta} & 1 * \\text{if } 0 = 0 \\text{ then } 1 \\text{ else } 1 * ((Y \\text{ fact}) ~0) \\\\\n",
    "\\rightarrow_{beta} & 1 * 1 \\\\\n",
    "\\rightarrow_{beta} & 1 \\\\\n",
    "\\end{array}\n",
    "\\\\]"
   ]
  },
  {
   "cell_type": "markdown",
   "metadata": {
    "slideshow": {
     "slide_type": "slide"
    }
   },
   "source": [
    "## Fixed point: Factorial\n",
    "```ocaml\n",
    "fact = λf.λn.if n = 0 then 1 else n * f (n-1)\n",
    "```"
   ]
  },
  {
   "cell_type": "code",
   "execution_count": null,
   "metadata": {},
   "outputs": [],
   "source": [
    "let y = p \"λf.(λx.f (x x)) (λx.f (x x))\"\n",
    "let fact = \n",
    "  let tst = app [is_zero; var \"n\"] in\n",
    "  let fb = app [mult; var \"n\"; app [var \"f\"; app [prd; var \"n\"]]] in\n",
    "  lam \"f\" (lam \"n\" (app [tst; one; fb]))"
   ]
  },
  {
   "cell_type": "code",
   "execution_count": null,
   "metadata": {
    "slideshow": {
     "slide_type": "slide"
    }
   },
   "outputs": [],
   "source": [
    "eval ~log:false ~depth:100000 @@ app [y; fact; three]"
   ]
  },
  {
   "cell_type": "markdown",
   "metadata": {
    "slideshow": {
     "slide_type": "slide"
    }
   },
   "source": [
    "## Quiz\n",
    "\n",
    "The y-combinator Y = λf.(λx.f (x x)) (λx.f (x x)) is a fixed pointer combinator under which reduction strategy?\n",
    "\n",
    "1. Call-by-value\n",
    "2. Call-by-name\n",
    "3. Both\n",
    "4. Neither"
   ]
  },
  {
   "cell_type": "markdown",
   "metadata": {
    "slideshow": {
     "slide_type": "slide"
    }
   },
   "source": [
    "## Quiz\n",
    "\n",
    "The y-combinator Y = λf.(λx.f (x x)) (λx.f (x x)) is a fixed pointer combinator under which reduction strategy?\n",
    "\n",
    "1. Call-by-value\n",
    "2. Call-by-name ✅\n",
    "3. Both\n",
    "4. Neither\n",
    "\n",
    "Under call-by-value, we will keep indefinitely expanding `Y F = F (Y F) = F (F (Y F)) = ...`. "
   ]
  },
  {
   "cell_type": "markdown",
   "metadata": {
    "slideshow": {
     "slide_type": "slide"
    }
   },
   "source": [
    "## Fixed point: Z combinator\n",
    "\n",
    "There is indeed a fixed point combinator for call-by-value called the Z combinator\n",
    "\n",
    "```ocaml\n",
    "Z = λf. (λx. f (λy. x x y)) (λx. f (λy. x x y))\n",
    "```\n",
    "\n",
    "which is just an $\\eta$-expansion of the Y combinator\n",
    "\n",
    "```ocaml\n",
    "Y = λf. (λx. f (x x)) (λx. f (x x))\n",
    "```"
   ]
  },
  {
   "cell_type": "markdown",
   "metadata": {
    "slideshow": {
     "slide_type": "slide"
    }
   },
   "source": [
    "## Fixed point: Z combinator\n",
    "\n",
    "\\\\[\n",
    "\\begin{array}{rl}\n",
    " & Z ~F = (λ\\yb{f}.(λx.f ~(λy.x ~x ~y)) ~(λx.f ~(λy.x ~x ~y))) ~\\yb{F} \\\\\n",
    "\\rightarrow_{\\beta V} & (λ\\yb{x}.F ~(λy.x ~x ~y)) ~\\yb{(λx.F ~(λy.x ~x ~y))} \\\\\n",
    "\\rightarrow_{\\beta V} & F ~(λy.\\yb{(λx.F ~(λy.x ~x ~y)) ~(λx.F ~(λy.x ~x ~y))} ~y)  \\\\\n",
    "\\rightarrow_{\\beta V} & F ~(λy. (Z ~F) ~y)\n",
    "\\end{array}\n",
    "\\\\]\n",
    "\n",
    "The $\\eta$-expansion has prevented further reduction."
   ]
  },
  {
   "cell_type": "markdown",
   "metadata": {
    "slideshow": {
     "slide_type": "slide"
    }
   },
   "source": [
    "## Recap\n",
    "\n",
    "We saw encoding various programming entities in lambda calculus\n",
    "\n",
    "* Booleans and if-then-else.\n",
    "* Pairs - first and second component extraction. Can be extended to tuples.\n",
    "* Natural numbers : successor, iszero, addition, multiplication, predecessor, subtraction.\n",
    "* Recursion - Y-combinator and the Z-combinator.\n",
    "\n",
    "## Today \n",
    "\n",
    "* Lists"
   ]
  },
  {
   "cell_type": "markdown",
   "metadata": {
    "slideshow": {
     "slide_type": "slide"
    }
   },
   "source": [
    "## Recursive data structures: Lists\n",
    "\n",
    "* Recursive data structures can also be encoded.\n",
    "  + List, Trees, etc.\n",
    "* Mogensen–Scott encoding\n",
    "  + Take constructors as arguments"
   ]
  },
  {
   "cell_type": "markdown",
   "metadata": {
    "slideshow": {
     "slide_type": "slide"
    }
   },
   "source": [
    "## Lists"
   ]
  },
  {
   "cell_type": "code",
   "execution_count": null,
   "metadata": {
    "slideshow": {
     "slide_type": "-"
    }
   },
   "outputs": [],
   "source": [
    "let nil = p \"\\\\c.\\\\n.n\"\n",
    "let cons = p \"\\\\h.\\\\t.\\\\c.\\\\n.c h t\""
   ]
  },
  {
   "cell_type": "code",
   "execution_count": null,
   "metadata": {
    "slideshow": {
     "slide_type": "fragment"
    }
   },
   "outputs": [],
   "source": [
    "let l2 = app [cons; two; app [cons; one; nil]] (* [2;1] *)"
   ]
  },
  {
   "cell_type": "code",
   "execution_count": null,
   "metadata": {
    "slideshow": {
     "slide_type": "fragment"
    }
   },
   "outputs": [],
   "source": [
    "eval ~log:false @@ l2;;"
   ]
  },
  {
   "cell_type": "markdown",
   "metadata": {
    "slideshow": {
     "slide_type": "slide"
    }
   },
   "source": [
    "## Lists: Head and Tail\n",
    "\n",
    "Empty list (`nil`) is `λc.λn.n` and non-empty list is `λc.λn.c h t`."
   ]
  },
  {
   "cell_type": "code",
   "execution_count": null,
   "metadata": {
    "slideshow": {
     "slide_type": "-"
    }
   },
   "outputs": [],
   "source": [
    "let hd = lam \"l\" (app [var \"l\"; tru; nil])\n",
    "let tl = lam \"l\" (app [var \"l\"; fls; nil])"
   ]
  },
  {
   "cell_type": "markdown",
   "metadata": {
    "slideshow": {
     "slide_type": "slide"
    }
   },
   "source": [
    "## Lists: Head and Tail\n",
    "\n",
    "```ocaml\n",
    "l2 = [2;1]\n",
    "```"
   ]
  },
  {
   "cell_type": "code",
   "execution_count": null,
   "metadata": {
    "slideshow": {
     "slide_type": "-"
    }
   },
   "outputs": [],
   "source": [
    "eval ~log:false @@ app [hd; l2];;\n",
    "eval ~log:false @@ app [tl; l2];;\n",
    "eval ~log:false @@ app [hd; nil];;\n",
    "eval ~log:false @@ app [tl; nil]"
   ]
  },
  {
   "cell_type": "markdown",
   "metadata": {
    "slideshow": {
     "slide_type": "slide"
    }
   },
   "source": [
    "## Lists: is_nil?\n",
    "\n",
    "Empty list (`nil`) is `λc.λn.n` and non-empty list is `λc.λn.c h t`.\n",
    "\n",
    "```ocaml\n",
    "is_nil = λl.l (λx.λy.fls) tru\n",
    "```\n",
    "\n",
    "Similar idea to `is_zero` function\n",
    "\n",
    "```ocaml\n",
    "is_zero = λn.n (λy.fls) tru\n",
    "```"
   ]
  },
  {
   "cell_type": "markdown",
   "metadata": {
    "slideshow": {
     "slide_type": "slide"
    }
   },
   "source": [
    "## Lists: is_nil?\n",
    "```ocaml\n",
    "is_nil = λl.l (λx.λy.fls) tru\n",
    "```"
   ]
  },
  {
   "cell_type": "code",
   "execution_count": null,
   "metadata": {},
   "outputs": [],
   "source": [
    "let is_nil = lam \"l\" (app [var \"l\"; lam \"x\" (lam \"y\" fls); tru])"
   ]
  },
  {
   "cell_type": "code",
   "execution_count": null,
   "metadata": {
    "slideshow": {
     "slide_type": "fragment"
    }
   },
   "outputs": [],
   "source": [
    "eval ~log:false @@ app [is_nil; l2];;\n",
    "eval ~log:false @@ app [is_nil; nil]"
   ]
  },
  {
   "cell_type": "markdown",
   "metadata": {
    "slideshow": {
     "slide_type": "slide"
    }
   },
   "source": [
    "## Lists: Length\n",
    "\n",
    "Empty list (`nil`) is `λc.λn.n` and non-empty list is `λc.λn.c h t`.\n",
    "\n",
    "```ocaml\n",
    "length = λf.λl.if is_nil l then zero else succ (f (tl l))\n",
    "```\n",
    "\n",
    "where `f` is the recursive function."
   ]
  },
  {
   "cell_type": "code",
   "execution_count": null,
   "metadata": {
    "slideshow": {
     "slide_type": "fragment"
    }
   },
   "outputs": [],
   "source": [
    "let len = \n",
    "  let cond = app[is_nil; var \"l\"] in\n",
    "  let flsc = app[scc; app[var \"f\"; app [tl; var \"l\"]]] in\n",
    "  app [y; lam \"f\" (lam \"l\" (app [cond; zero; flsc]))]"
   ]
  },
  {
   "cell_type": "code",
   "execution_count": null,
   "metadata": {
    "scrolled": false,
    "slideshow": {
     "slide_type": "slide"
    }
   },
   "outputs": [],
   "source": [
    "eval ~log:false @@ app [len; nil];;\n",
    "eval ~log:false @@ app [len; l2];;"
   ]
  },
  {
   "cell_type": "markdown",
   "metadata": {
    "slideshow": {
     "slide_type": "slide"
    }
   },
   "source": [
    "## Discussion\n",
    "\n",
    "* Lambda calculus is Turing-complete\n",
    "  + Most powerful language possible\n",
    "  + Can represent pretty much anything in a \"real\" language\n",
    "    * Using clever encodings\n",
    "* But programs would be\n",
    "  + Pretty slow (10000 + 1 → thousands of function calls)\n",
    "  + Pretty inconvenient (difficult to recognize 10000 vs. 9999)\n",
    "* In practice,\n",
    "  + We use richer, more expressive languages\n",
    "  + That include built-in primitives"
   ]
  },
  {
   "cell_type": "markdown",
   "metadata": {
    "slideshow": {
     "slide_type": "slide"
    }
   },
   "source": [
    "<center>\n",
    "\n",
    "<h1 style=\"text-align:center\"> Fin. </h1>\n",
    "</center>"
   ]
  }
 ],
 "metadata": {
  "celltoolbar": "Slideshow",
  "kernelspec": {
   "display_name": "Python 3",
   "language": "python",
   "name": "python3"
  },
  "language_info": {
   "codemirror_mode": {
    "name": "ipython",
    "version": 3
   },
   "file_extension": ".py",
   "mimetype": "text/x-python",
   "name": "python",
   "nbconvert_exporter": "python",
   "pygments_lexer": "ipython3",
   "version": "3.7.6"
  }
 },
 "nbformat": 4,
 "nbformat_minor": 2
}
