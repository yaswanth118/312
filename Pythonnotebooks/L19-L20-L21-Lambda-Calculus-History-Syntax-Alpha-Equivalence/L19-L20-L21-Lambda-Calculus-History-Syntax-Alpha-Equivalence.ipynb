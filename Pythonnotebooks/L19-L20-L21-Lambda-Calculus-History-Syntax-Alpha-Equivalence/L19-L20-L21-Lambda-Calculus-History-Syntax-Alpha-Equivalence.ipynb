{
 "cells": [
  {
   "cell_type": "markdown",
   "metadata": {
    "slideshow": {
     "slide_type": "slide"
    }
   },
   "source": [
    "<center>\n",
    "    <h1 style=\"text-align:center\"> CS3100 PoP (2021) </h1>\n",
    "    <h2 style=\"text-align:center\"> Lecture 19: Lambda Calculus </h2>\n",
    "</center>"
   ]
  },
  {
   "cell_type": "markdown",
   "metadata": {
    "slideshow": {
     "slide_type": "slide"
    }
   },
   "source": [
    "### Story so far :\n",
    "\n",
    "* Functional programming through Ocaml\n",
    "    + Syntax, static semantics, dynamic semantics, type checking.\n",
    "    + Let expressions, definitions, if-then-else.\n",
    "    + Anonymous functions, function definitions, pattern matching.\n",
    "    + Data types - lists, tuples, records, variants, exceptions, try.\n",
    "    + Higher order functions - map, filter and fold."
   ]
  },
  {
   "cell_type": "markdown",
   "metadata": {
    "slideshow": {
     "slide_type": "slide"
    }
   },
   "source": [
    "### Today (and the rest of this week)\n",
    "\n",
    "* Lambda Calculus: Basis of FP!\n",
    "  + Origin, Syntax, substitution, alpha equivalence."
   ]
  },
  {
   "cell_type": "markdown",
   "metadata": {
    "slideshow": {
     "slide_type": "slide"
    }
   },
   "source": [
    "## Computability\n",
    "    \n",
    "<h3> In 1900s </h3>\n",
    "\n",
    "* David Hilbert : There is a curious similarity between process of mathematical proofs and computation.\n",
    "* Both are applying pre-defined set of algorithmic steps (rules of inferences) to an initial set of \"data\" (axioms) to produce the output data (theorems with their proofs).\n",
    "* Startling question : Can process of mathematical proof be automated?\n",
    "* To say yes or no - one needs a formal model of computation."
   ]
  },
  {
   "cell_type": "markdown",
   "metadata": {
    "slideshow": {
     "slide_type": "fragment"
    }
   },
   "source": [
    "* What does it mean for the function $f : \\mathbb{N} \\rightarrow \\mathbb{N}$ to be *computable*?\n",
    "* **Informal definition:** A function is computable if using pencil-and-paper you can compute $f(n)$ for any $n$.\n",
    "* Three different researchers attempted to formalise *computability*."
   ]
  },
  {
   "cell_type": "markdown",
   "metadata": {
    "slideshow": {
     "slide_type": "slide"
    }
   },
   "source": [
    "## Alan Turning\n",
    "\n",
    "<img src=\"images/turing.jpg\" style=\"float:left\" width=\"150\">\n",
    "\n",
    "<div style=\"float:left;width:75%\">\n",
    "    \n",
    "* Defined a mathematical model of computation -- **The Turing Machine** (1935)\n",
    "  + view input as a string over an alphabet.\n",
    "  + defined notion of computation by Turing machine, acceptance, rejection, looping, halting.\n",
    "  + A function is computable if and only if it can be computed by a turning machine.\n",
    "* A programming language is turing complete if:\n",
    "  + It can map every turing machine to a program.\n",
    "  + A program can be written to simulate a universal turing machine. \n",
    "  + It is a superset of a known turning complete language.\n",
    "</div>"
   ]
  },
  {
   "cell_type": "markdown",
   "metadata": {
    "slideshow": {
     "slide_type": "slide"
    }
   },
   "source": [
    "## Alonzo Church\n",
    "\n",
    "<img src=\"images/church.jpg\" style=\"float:left\" width=\"150\">\n",
    "\n",
    "<div style=\"padding-left:10px; float:left;width:75%\">\n",
    "<br>\n",
    "    \n",
    "* Developed the **λ-calculus** as a formal system for mathematical logic (1929 - 1932).\n",
    "* Postulated that a function is computable (in the intuitive sense) if and only if it can be written as a lambda term (1935).\n",
    "* Church was Turing's PhD advisor!\n",
    "* Turing showed that the systems defined by Church and his system were equivalent.\n",
    "  + **Church-Turing Thesis**\n",
    "\n",
    "</div>"
   ]
  },
  {
   "cell_type": "markdown",
   "metadata": {
    "slideshow": {
     "slide_type": "slide"
    }
   },
   "source": [
    "## Kurt Gödel\n",
    "\n",
    "<img src=\"images/godel.jpg\" style=\"float:left\" width=\"150\">\n",
    "\n",
    "<div style=\"padding-left:10px; float:left;width:75%\"><br>\n",
    "    \n",
    "* Defined the class of **general recursive functions** as the smallest set of functions containing \n",
    "  + all the constant functions\n",
    "  + the successor function and \n",
    "  + closed under certain operations (such as compositions and recursion). \n",
    "* He postulated that a function is computable (in the intuitive sense) if and only if it is general recursive.\n",
    "* Famous for Gödel's Incompleteness Theorems - producing a mathematical statement about natural numbers which is not provable within the axiom system (the Peano's axiom system) for natural numbers.\n",
    "</div>"
   ]
  },
  {
   "cell_type": "markdown",
   "metadata": {
    "slideshow": {
     "slide_type": "slide"
    }
   },
   "source": [
    "## Impact of Church-Turing thesis\n",
    "\n",
    "* The **“Church-Turing Thesis”** is by itself is one of the most important ideas on computer science\n",
    "  + The impact of Church and Turing’s models goes far beyond the thesis itself."
   ]
  },
  {
   "cell_type": "markdown",
   "metadata": {
    "slideshow": {
     "slide_type": "slide"
    }
   },
   "source": [
    "## Impact of Church-Turing thesis\n",
    "\n",
    "* Oddly, however, the impact of each has been in almost completely separate communities\n",
    "  + Turing Machines $\\Rightarrow$ Algorithms & Complexity\n",
    "  + Lambda Calculus $\\Rightarrow$ Programming Languages\n",
    "* Not accidental\n",
    "  + Turing machines are quite low level $\\Rightarrow$ well suited for measuring resources (**efficiency**).\n",
    "  + Lambda Calculus is quite high level $\\Rightarrow$ well suited for abstraction and composition (**structure**)."
   ]
  },
  {
   "cell_type": "markdown",
   "metadata": {
    "slideshow": {
     "slide_type": "slide"
    }
   },
   "source": [
    "## Programming Language Expressiveness\n",
    "\n",
    "* So what language features are needed to express all computable functions?\n",
    "  + *What's the minimal language that is Turing Complete?*\n",
    "* Observe that many features that we have seen in this class were syntactic sugar\n",
    "  + **Multi-argument functions** - simulate using partial application\n",
    "  + **For loop, while loop** - simulate using recursive functions"
   ]
  },
  {
   "cell_type": "markdown",
   "metadata": {
    "slideshow": {
     "slide_type": "fragment"
    }
   },
   "source": [
    "<center>\n",
    "\n",
    "<h1 style=\"text-align:center\"> All you need is Functions.</i> </h1>\n",
    "</center>"
   ]
  },
  {
   "cell_type": "markdown",
   "metadata": {
    "slideshow": {
     "slide_type": "slide"
    }
   },
   "source": [
    "## Why Study Lambda Calculus?\n",
    "\n",
    "* It is a \"core\" language\n",
    "  + Very small but still Turing complete\n",
    "* But with it can explore general ideas\n",
    "  + Language features, semantics, proof systems, algorithms, ...\n",
    "* Plus, higher-order, anonymous functions (aka lambdas) are now very popular!\n",
    "  + C++ (C++11), PHP (PHP 5.3.0), C# (C# v2.0), Delphi (since 2009), Objective C, Java 8, Swift, Python, Ruby (Procs), ...\n",
    "  + and functional languages like OCaml, Haskell, F#, ..."
   ]
  },
  {
   "cell_type": "markdown",
   "metadata": {
    "slideshow": {
     "slide_type": "fragment"
    }
   },
   "source": [
    "<center>\n",
    "    \n",
    "<h2 style=\"text-align:center\"> That's it! Nothing but higher order functions </h2>\n",
    "</center>"
   ]
  },
  {
   "cell_type": "markdown",
   "metadata": {
    "slideshow": {
     "slide_type": "slide"
    }
   },
   "source": [
    "## Lambda Calculus : Syntax\n",
    "\n",
    "\\\\[\n",
    "\\begin{array}{rcll}\n",
    "e & ::=  & x & \\text{(Variable)} \\\\\n",
    "  & \\mid & \\lambda x.e & \\text{(Abstraction)} \\\\\n",
    "  & \\mid & e~e & \\text{(Application)}\n",
    "\\end{array}\n",
    "\\\\]"
   ]
  },
  {
   "cell_type": "markdown",
   "metadata": {
    "slideshow": {
     "slide_type": "-"
    }
   },
   "source": [
    "* Lambda expressions also known as lambda **terms**\n",
    "* $\\lambda x.e$ is like `fun x -> e`\n",
    "* Eg:1 - $\\lambda x. x$ - represents the **identity function**.\n",
    "* Eg:2 - $\\lambda x. y$ - represents the **constant function**."
   ]
  },
  {
   "cell_type": "markdown",
   "metadata": {
    "slideshow": {
     "slide_type": "slide"
    }
   },
   "source": [
    "## Two Conventions\n",
    "\n",
    "1. Scope of $\\lambda$ extends as far right as possible\n",
    "  + Subject to scope delimited by parentheses\n",
    "  + $\\lambda x. \\lambda y.x~y~$ is the same as $\\lambda x.(\\lambda y.(x~y))$"
   ]
  },
  {
   "cell_type": "markdown",
   "metadata": {
    "slideshow": {
     "slide_type": "fragment"
    }
   },
   "source": [
    "2. Function Application is left-associative\n",
    "  + `x y z` is `(x y) z`\n",
    "  + Same rule as OCaml"
   ]
  },
  {
   "cell_type": "markdown",
   "metadata": {
    "slideshow": {
     "slide_type": "slide"
    }
   },
   "source": [
    "## Lambda calculus interpreter in OCaml\n",
    "\n",
    "* In Assignment 2, you will be implementing a lambda calculus interpreter in OCaml.\n",
    "* What is the Abstract Syntax Tree (AST)?\n",
    "\n",
    "```ocaml\n",
    "type expr = \n",
    "  | Var of string\n",
    "  | Lam of string * expr\n",
    "  | App of expr * expr\n",
    "```"
   ]
  },
  {
   "cell_type": "markdown",
   "metadata": {
    "slideshow": {
     "slide_type": "slide"
    }
   },
   "source": [
    "## Lambda expressions in OCaml\n",
    "\n",
    "* $y~$ is `Var \"y\"`\n",
    "* $\\lambda x.x~$ is `Lam (\"x\", Var \"x\")`\n",
    "* $\\lambda x. \\lambda y.x ~y~$ is `Lam (\"x\",(Lam(\"y\",App (Var \"x\", Var \"y\"))))`\n",
    "* $(\\lambda x.\\lambda y.x ~y) ~(\\lambda x.x ~x~)$ is\n",
    "\n",
    "```ocaml\n",
    "App\n",
    "  (Lam (\"x\", Lam (\"y\",App (Var \"x\", Var \"y\"))),\n",
    "   Lam (\"x\", App (Var \"x\", Var \"x\")))\n",
    "```"
   ]
  },
  {
   "cell_type": "code",
   "execution_count": 12,
   "metadata": {
    "slideshow": {
     "slide_type": "slide"
    }
   },
   "outputs": [
    {
     "name": "stdout",
     "output_type": "stream",
     "text": [
      "val parse : string -> Syntax.expr = <fun>\n",
      "val free_variables : string -> Eval.SS.elt list = <fun>\n",
      "val substitute : string -> string -> string -> string = <fun>\n"
     ]
    }
   ],
   "source": [
    "#use \"init.ml\";;"
   ]
  },
  {
   "cell_type": "code",
   "execution_count": 13,
   "metadata": {},
   "outputs": [
    {
     "data": {
      "text/plain": [
       "- : Syntax.expr = Var \"y\"\n"
      ]
     },
     "execution_count": 13,
     "metadata": {},
     "output_type": "execute_result"
    },
    {
     "data": {
      "text/plain": [
       "- : Syntax.expr = Lam (\"x\", Var \"x\")\n"
      ]
     },
     "execution_count": 13,
     "metadata": {},
     "output_type": "execute_result"
    },
    {
     "data": {
      "text/plain": [
       "- : Syntax.expr = Lam (\"x\", Lam (\"y\", App (Var \"x\", Var \"y\")))\n"
      ]
     },
     "execution_count": 13,
     "metadata": {},
     "output_type": "execute_result"
    },
    {
     "data": {
      "text/plain": [
       "- : Syntax.expr =\n",
       "App (Lam (\"x\", Lam (\"y\", App (Var \"x\", Var \"y\"))),\n",
       " Lam (\"x\", App (Var \"x\", Var \"x\")))\n"
      ]
     },
     "execution_count": 13,
     "metadata": {},
     "output_type": "execute_result"
    }
   ],
   "source": [
    "parse \"y\";;\n",
    "parse \"λx.x\";;\n",
    "parse \"\\\\x.\\\\y.x y\";;\n",
    "parse \"(\\\\x.\\\\y.x y) (\\\\x. x x)\";;"
   ]
  },
  {
   "cell_type": "markdown",
   "metadata": {
    "slideshow": {
     "slide_type": "slide"
    }
   },
   "source": [
    "## Example 1\n",
    "\n",
    "$\\lambda x.(y ~z)$ and $\\lambda x.y ~z$ are equivalent.\n",
    "\n",
    "1. True\n",
    "2. False"
   ]
  },
  {
   "cell_type": "markdown",
   "metadata": {
    "slideshow": {
     "slide_type": "slide"
    }
   },
   "source": [
    "## Example 1\n",
    "\n",
    "$\\lambda x.(y ~z)$ and $\\lambda x.y ~z$ are equivalent.\n",
    "\n",
    "1. True ✅\n",
    "2. False"
   ]
  },
  {
   "cell_type": "markdown",
   "metadata": {
    "slideshow": {
     "slide_type": "slide"
    }
   },
   "source": [
    "## Example 2\n",
    "\n",
    "What is this term’s AST? $\\lambda x.x ~x$\n",
    "\n",
    "1. `App (Lam (\"x\", Var \"x\"), Var \"x\")`\n",
    "2. `Lam (Var \"x\", Var \"x\", Var \"x\")`\n",
    "3. `Lam (\"x\", App (Var \"x\", Var \"x\"))`\n",
    "4. `App (Lam (\"x\", App (\"x\", \"x\")))`"
   ]
  },
  {
   "cell_type": "markdown",
   "metadata": {
    "slideshow": {
     "slide_type": "slide"
    }
   },
   "source": [
    "## Example 2\n",
    "\n",
    "What is this term’s AST? $\\lambda x.x ~x$\n",
    "\n",
    "1. `App (Lam (\"x\", Var \"x\"), Var \"x\")`\n",
    "2. `Lam (Var \"x\", Var \"x\", Var \"x\")`\n",
    "3. `Lam (\"x\", App (Var \"x\", Var \"x\"))` ✅\n",
    "4. `App (Lam (\"x\", App (\"x\", \"x\")))`"
   ]
  },
  {
   "cell_type": "markdown",
   "metadata": {
    "slideshow": {
     "slide_type": "slide"
    }
   },
   "source": [
    "## Example 3\n",
    "\n",
    "This term is equivalent to which of the following?\n",
    "\n",
    "$\\lambda x.x ~a ~b$\n",
    "\n",
    "1. $(\\lambda x.x) ~(a ~b)$\n",
    "2. $(((\\lambda x.x) ~a) ~b)$\n",
    "3. $\\lambda x.(x ~(a ~b))$\n",
    "4. $\\lambda x.((x ~a) ~b)$"
   ]
  },
  {
   "cell_type": "markdown",
   "metadata": {
    "slideshow": {
     "slide_type": "slide"
    }
   },
   "source": [
    "## Example 3\n",
    "\n",
    "This term is equivalent to which of the following?\n",
    "\n",
    "$\\lambda x.x ~a ~b$\n",
    "\n",
    "1. $(\\lambda x.x) ~(a ~b)$\n",
    "2. $(((\\lambda x.x) ~a) ~b)$\n",
    "3. $\\lambda x.(x ~(a ~b))$\n",
    "4. $(\\lambda x.((x ~a) ~b))$ ✅"
   ]
  },
  {
   "cell_type": "markdown",
   "metadata": {
    "slideshow": {
     "slide_type": "slide"
    }
   },
   "source": [
    "## Free Variables\n",
    "\n",
    "In\n",
    "\n",
    "```ocaml\n",
    "λx. x y\n",
    "```\n",
    "\n",
    "* The first `x` is the binder. \n",
    "* The second `x` is a **bound** variable.\n",
    "* The `y` is a **free** variable."
   ]
  },
  {
   "cell_type": "markdown",
   "metadata": {
    "slideshow": {
     "slide_type": "slide"
    }
   },
   "source": [
    "## Free Variables\n",
    "\n",
    "Let $FV(t)$ denote the free variables in a term $t$. \n",
    "\n",
    "We can define $FV(t)$ inductively over the definition of terms as follows:\n",
    "\n",
    "\\\\[\n",
    "\\begin{array}{rcl}\n",
    "FV(x) & = & \\{x\\} \\\\\n",
    "FV(\\lambda x.t_1) & = & FV(t_1) \\setminus \\{x\\} \\\\\n",
    "FV(t_1 ~t_2) & = & FV(t_1) ~\\cup~ FV(t_2)\n",
    "\\end{array}\n",
    "\\\\]\n",
    "\n",
    "If $FV(t) = \\emptyset$ then we say that $t$ is a **closed** term.\n",
    "\n",
    "$\n",
    "\\newcommand{\\cg}[1]{\\color{green}{#1}}\n",
    "\\newcommand{\\cr}[1]{\\color{red}{#1}}\n",
    "\\newcommand{\\cb}[1]{\\color{blue}{#1}}\n",
    "$"
   ]
  },
  {
   "cell_type": "markdown",
   "metadata": {
    "slideshow": {
     "slide_type": "slide"
    }
   },
   "source": [
    "## Example\n",
    "\n",
    "What are the free variables in the following?\n",
    "\n",
    "1. $\\lambda x.x ~(\\lambda y. y)$\n",
    "2. $x ~y ~z$\n",
    "3. $\\lambda x. (\\lambda y. y) ~x ~y$\n",
    "4. $\\lambda x. (\\lambda y. x) ~y$"
   ]
  },
  {
   "cell_type": "markdown",
   "metadata": {
    "slideshow": {
     "slide_type": "slide"
    }
   },
   "source": [
    "## Example\n",
    "\n",
    "What are the free variables in the following?\n",
    "\n",
    "$\n",
    "\\begin{array}{ll}\n",
    "1. ~\\lambda x.x ~(\\lambda y. y) & \\{\\} \\\\\n",
    "2. ~\\cr{x ~y ~z} & \\{x,y,z\\} \\\\\n",
    "3. ~\\lambda x. (\\lambda y. y) ~x ~\\cr{y} & \\{y\\} \\\\\n",
    "4. ~\\lambda x. (\\lambda y. x) ~\\cr{y} & \\{y\\}\n",
    "\\end{array}\n",
    "$"
   ]
  },
  {
   "cell_type": "code",
   "execution_count": 14,
   "metadata": {
    "slideshow": {
     "slide_type": "slide"
    }
   },
   "outputs": [
    {
     "data": {
      "text/plain": [
       "- : Eval.SS.elt list = []\n"
      ]
     },
     "execution_count": 14,
     "metadata": {},
     "output_type": "execute_result"
    },
    {
     "data": {
      "text/plain": [
       "- : Eval.SS.elt list = [\"x\"; \"y\"; \"z\"]\n"
      ]
     },
     "execution_count": 14,
     "metadata": {},
     "output_type": "execute_result"
    },
    {
     "data": {
      "text/plain": [
       "- : Eval.SS.elt list = [\"y\"]\n"
      ]
     },
     "execution_count": 14,
     "metadata": {},
     "output_type": "execute_result"
    },
    {
     "data": {
      "text/plain": [
       "- : Eval.SS.elt list = [\"y\"]\n"
      ]
     },
     "execution_count": 14,
     "metadata": {},
     "output_type": "execute_result"
    }
   ],
   "source": [
    "free_variables \"\\\\x.x (\\\\y. y)\";;\n",
    "free_variables \"x y z\";;\n",
    "free_variables \"\\\\x.(\\\\y. y) x y\";;\n",
    "free_variables \"\\\\x.(\\\\y.x) y\";;"
   ]
  },
  {
   "cell_type": "markdown",
   "metadata": {
    "slideshow": {
     "slide_type": "slide"
    }
   },
   "source": [
    "# $\\alpha$-equivalence\n",
    "\n",
    "Lambda calculus uses **static scoping** (just like OCaml)\n",
    "\n",
    "\\\\[\n",
    "\\lambda \\cg{x}. \\cg{x} ~(\\lambda \\cr{x}. \\cr{x})\n",
    "\\\\]"
   ]
  },
  {
   "cell_type": "markdown",
   "metadata": {
    "slideshow": {
     "slide_type": "-"
    }
   },
   "source": [
    "This is equivalent to:\n",
    "\n",
    "\\\\[\n",
    "\\lambda \\cg{x}. \\cg{x} ~(\\lambda \\cr{y}. \\cr{y})\n",
    "\\\\]\n",
    "\n",
    "* Renaming bound variables consistently preserves meaning\n",
    "  + This is called as **𝛼-renaming** or **𝛼-conversion**.\n",
    "* If a term $t_1$ is obtained by 𝛼-renaming another term $t_2$ then $t_1$ and $t_2$ are said to be **𝛼-equivalent**."
   ]
  },
  {
   "cell_type": "markdown",
   "metadata": {
    "slideshow": {
     "slide_type": "slide"
    }
   },
   "source": [
    "## Example\n",
    "\n",
    "Which of the following equivalences hold?\n",
    "\n",
    "1. $\\lambda x. x ~(\\lambda y. y) ~y =_{\\alpha} \\lambda y. y ~(\\lambda x. x) ~x$\n",
    "2. $\\lambda x. x ~(\\lambda y. y) ~y =_{\\alpha} \\lambda y. y ~(\\lambda x. x) ~y$\n",
    "3. $(\\lambda x. x ~(\\lambda y. y) ~y) =_{\\alpha} \\lambda w. w ~(\\lambda w. w) ~y$"
   ]
  },
  {
   "cell_type": "markdown",
   "metadata": {
    "slideshow": {
     "slide_type": "slide"
    }
   },
   "source": [
    "## Example\n",
    "\n",
    "Which of the following equivalences hold?\n",
    "\n",
    "1. $\\lambda x. x ~(\\lambda y. y) ~y =_{\\alpha} \\lambda y. y ~(\\lambda x. x) ~x~$   ❌\n",
    "2. $\\lambda x. x ~(\\lambda y. y) ~y =_{\\alpha} \\lambda y. y ~(\\lambda x. x) ~y~$   ❌\n",
    "3. $\\lambda x. x ~(\\lambda y. y) ~y =_{\\alpha} \\lambda w. w ~(\\lambda w. w) ~y~$   ✅"
   ]
  },
  {
   "cell_type": "markdown",
   "metadata": {
    "slideshow": {
     "slide_type": "slide"
    }
   },
   "source": [
    "## Substitution\n",
    "\n",
    "* In order to formally define $\\alpha$-equivalence, we need to define **substitutions**.\n",
    "* Substitution replaces **free** occurrences of a variable $x$ with a lambda term $N$ in some other term $M$. \n",
    "  + We write it as $M[N/x]$. (read \"N for x in M\")."
   ]
  },
  {
   "cell_type": "markdown",
   "metadata": {
    "slideshow": {
     "slide_type": "fragment"
    }
   },
   "source": [
    "For example,\n",
    "\n",
    "\\\\[\n",
    "(\\lambda x.x ~y)[(\\lambda z.z)/y] = \\lambda x.x ~(\\lambda z.z)\n",
    "\\\\]"
   ]
  },
  {
   "cell_type": "markdown",
   "metadata": {
    "slideshow": {
     "slide_type": "fragment"
    }
   },
   "source": [
    "<h4> Substitution is quite subtle. So we will start with our intuitions and see how things break and finally work up to the correct example. <h4>"
   ]
  },
  {
   "cell_type": "markdown",
   "metadata": {
    "slideshow": {
     "slide_type": "slide"
    }
   },
   "source": [
    "## Substitution: Attempt 1\n",
    "\n",
    "\\\\[\n",
    "\\begin{array}{rcll}\n",
    "x[s/x] & = & s \\\\\n",
    "y[s/x] & = & y & \\text{if } x \\neq y\\\\\n",
    "(\\lambda y.t_1)[s/x] & = & \\lambda y. (t_1[s/x]) \\\\\n",
    "(t_1 ~t_2)[s/x] & = & (t_1[s/x]) ~(t_2[s/x])\n",
    "\\end{array}\n",
    "\\\\]"
   ]
  },
  {
   "cell_type": "markdown",
   "metadata": {
    "slideshow": {
     "slide_type": "fragment"
    }
   },
   "source": [
    "This definition works for most examples. For example,\n",
    "\n",
    "\\\\[\n",
    "(\\lambda y.x)[(\\lambda z.z~w)/x] = \\lambda y.\\lambda z.z ~w\n",
    "\\\\]"
   ]
  },
  {
   "cell_type": "markdown",
   "metadata": {
    "slideshow": {
     "slide_type": "slide"
    }
   },
   "source": [
    "## Substitution: Attempt 1\n",
    "\n",
    "\\\\[\n",
    "\\begin{array}{rcll}\n",
    "x[s/x] & = & s \\\\\n",
    "y[s/x] & = & y & \\text{if } x \\neq y\\\\\n",
    "(\\lambda y.t_1)[s/x] & = & \\lambda y.t_1[s/x] \\\\\n",
    "(t_1 ~t_2)[s/x] & = & (t_1[s/x]) ~(t_2[s/x])\n",
    "\\end{array}\n",
    "\\\\]\n",
    "\n",
    "However, it fails if the substitution is on the bound variable:\n",
    "\n",
    "\\\\[\n",
    "(\\lambda x.x)[y/x] = \\lambda x.y\n",
    "\\\\]\n",
    "\n",
    "The **identity** function has become a **constant** function!"
   ]
  },
  {
   "cell_type": "markdown",
   "metadata": {
    "slideshow": {
     "slide_type": "slide"
    }
   },
   "source": [
    "## Substitution: Attempt 2\n",
    "\n",
    "\\\\[\n",
    "\\begin{array}{rcll}\n",
    "x[s/x] & = & s \\\\\n",
    "y[s/x] & = & y & \\text{if } x \\neq y\\\\\n",
    "(\\lambda x.t_1)[s/x] & = & \\lambda x.t_1\\\\\n",
    "(\\lambda y.t_1)[s/x] & = & \\lambda y.t_1[s/x] & \\text{if } x \\neq y\\\\\n",
    "(t_1 ~t_2)[s/x] & = & (t_1[s/x]) ~(t_2[s/x])\n",
    "\\end{array}\n",
    "\\\\]"
   ]
  },
  {
   "cell_type": "markdown",
   "metadata": {
    "slideshow": {
     "slide_type": "fragment"
    }
   },
   "source": [
    "However, this is not quite right. For example,\n",
    "\n",
    "\\\\[\n",
    "(\\lambda x.y)[x/y] = \\lambda x.x\n",
    "\\\\]\n",
    "\n",
    "* The **constant** function has become a **identity** function.\n",
    "* The problem here is that the free $x$ gets **captured** by the binder $x$."
   ]
  },
  {
   "cell_type": "markdown",
   "metadata": {
    "slideshow": {
     "slide_type": "slide"
    }
   },
   "source": [
    "## Substitution: Attempt 3\n",
    "\n",
    "Capture-avoiding substitution\n",
    "\n",
    "\\\\[\n",
    "\\begin{array}{rcll}\n",
    "x[s/x] & = & s \\\\\n",
    "y[s/x] & = & y & \\text{if } x \\neq y\\\\\n",
    "(\\lambda x.t_1)[s/x] & = & \\lambda x.t_1\\\\\n",
    "(\\lambda y.t_1)[s/x] & = & \\lambda y.t_1[s/x] & \\text{if } x \\neq y \\text{ and } y \\notin FV(s)\\\\\n",
    "(t_1 ~t_2)[s/x] & = & (t_1[s/x]) ~(t_2[s/x])\n",
    "\\end{array}\n",
    "\\\\]"
   ]
  },
  {
   "cell_type": "markdown",
   "metadata": {
    "slideshow": {
     "slide_type": "fragment"
    }
   },
   "source": [
    "* Unfortunately, this made substitution a partial function\n",
    "  + There is no valid rule for $(\\lambda x.y)[x/y]$"
   ]
  },
  {
   "cell_type": "markdown",
   "metadata": {
    "slideshow": {
     "slide_type": "slide"
    }
   },
   "source": [
    "## Substitution: Attempt 4\n",
    "\n",
    "Capture-avoiding substitution + totality\n",
    "\n",
    "\\\\[\n",
    "\\begin{array}{rcll}\n",
    "x[s/x] & = & s \\\\\n",
    "y[s/x] & = & y & \\text{if } x \\neq y\\\\\n",
    "(\\lambda x.t_1)[s/x] & = & \\lambda x.t_1\\\\\n",
    "(\\lambda y.t_1)[s/x] & = & \\lambda y.t_1[s/x] & \\text{if } x \\neq y \\text{ and } y \\notin FV(s)\\\\\n",
    "(\\lambda y.t_1)[s/x] & = & \\lambda w.t_1[w/y][s/x] & \\text{if } x \\neq y \\text{ and } y \\in FV(s) \\text { and } w \\text{ is fresh}\\\\\n",
    "(t_1 ~t_2)[s/x] & = & (t_1[s/x]) ~(t_2[s/x])\n",
    "\\end{array}\n",
    "\\\\]\n",
    "\n",
    "* A **fresh** binder is different from every other binder in use.\n",
    "* In the case above, \n",
    "\n",
    "\\\\[\n",
    "w \\text{ is fresh } \\equiv w \\notin FV(t_1) \\cup FV(s) \\cup \\{x\\}\n",
    "\\\\]"
   ]
  },
  {
   "cell_type": "markdown",
   "metadata": {
    "slideshow": {
     "slide_type": "fragment"
    }
   },
   "source": [
    "Now our example works out:\n",
    "\n",
    "\\\\[\n",
    "(\\lambda x.y)[x/y] = \\lambda w.x\n",
    "\\\\]"
   ]
  },
  {
   "cell_type": "code",
   "execution_count": 15,
   "metadata": {
    "slideshow": {
     "slide_type": "slide"
    }
   },
   "outputs": [
    {
     "data": {
      "text/plain": [
       "- : string = \"λy.λz.z w\"\n"
      ]
     },
     "execution_count": 15,
     "metadata": {},
     "output_type": "execute_result"
    }
   ],
   "source": [
    "substitute \"\\\\y.x\" \"x\" \"\\\\z.z w\""
   ]
  },
  {
   "cell_type": "code",
   "execution_count": 16,
   "metadata": {},
   "outputs": [
    {
     "data": {
      "text/plain": [
       "- : string = \"λx.x\"\n"
      ]
     },
     "execution_count": 16,
     "metadata": {},
     "output_type": "execute_result"
    }
   ],
   "source": [
    "substitute \"\\\\x.x\" \"x\" \"y\""
   ]
  },
  {
   "cell_type": "code",
   "execution_count": 17,
   "metadata": {},
   "outputs": [
    {
     "data": {
      "text/plain": [
       "- : string = \"λx0.x\"\n"
      ]
     },
     "execution_count": 17,
     "metadata": {},
     "output_type": "execute_result"
    }
   ],
   "source": [
    "substitute \"\\\\x.y\" \"y\" \"x\""
   ]
  },
  {
   "cell_type": "markdown",
   "metadata": {
    "slideshow": {
     "slide_type": "slide"
    }
   },
   "source": [
    "## $\\alpha$-equivalence formally\n",
    "\n",
    "$=_{\\alpha}$ is an equivalence (reflexive, transitive, symmetric) relation such that:\n",
    "\n",
    "$\n",
    "\\newcommand{\\inferrule}[2]{\\displaystyle{\\frac{#1}{#2}}}\n",
    "$\n",
    "\n",
    "\\\\[\n",
    "\\begin{array}{cc}\n",
    "\\inferrule{}{x =_{\\alpha} x} \\quad & \\quad \\inferrule{M =_{\\alpha} M' \\quad N =_{\\alpha} N'}{M ~N =_{\\alpha} M' ~N'}\n",
    "\\end{array}\n",
    "\\\\]\n",
    "\n",
    "<br>\n",
    "\n",
    "\\\\[\n",
    "\\inferrule{z \\notin FV(M) \\cup FV(N) \\quad M[z/x] =_{\\alpha} N[z/y]}{\\lambda x.M =_{\\alpha} \\lambda y.N}\n",
    "\\\\]"
   ]
  },
  {
   "cell_type": "markdown",
   "metadata": {
    "slideshow": {
     "slide_type": "slide"
    }
   },
   "source": [
    "## Convention\n",
    "\n",
    "From now on, \n",
    "\n",
    "* Unless stated otherwise, we identify lambda terms up to α-equivalence.\n",
    "  + when we speak of lambda terms being **equal**, we mean that they are α-equivalent"
   ]
  }
 ],
 "metadata": {
  "celltoolbar": "Slideshow",
  "kernelspec": {
   "display_name": "Python 3",
   "language": "python",
   "name": "python3"
  },
  "language_info": {
   "codemirror_mode": {
    "name": "ipython",
    "version": 3
   },
   "file_extension": ".py",
   "mimetype": "text/x-python",
   "name": "python",
   "nbconvert_exporter": "python",
   "pygments_lexer": "ipython3",
   "version": "3.7.6"
  }
 },
 "nbformat": 4,
 "nbformat_minor": 2
}
