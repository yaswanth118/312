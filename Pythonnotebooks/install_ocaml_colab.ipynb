{
 "cells": [
  {
   "cell_type": "code",
   "execution_count": 5,
   "metadata": {},
   "outputs": [
    {
     "name": "stderr",
     "output_type": "stream",
     "text": [
      "'add-apt-repository' is not recognized as an internal or external command,\n",
      "operable program or batch file.\n",
      "'opam' is not recognized as an internal or external command,\n",
      "operable program or batch file.\n",
      "'opam' is not recognized as an internal or external command,\n",
      "operable program or batch file.\n",
      "'opam' is not recognized as an internal or external command,\n",
      "operable program or batch file.\n",
      "Traceback (most recent call last):\n",
      "  File \"C:\\Users\\HP\\anaconda3\\Scripts\\jupyter-kernelspec-script.py\", line 10, in <module>\n",
      "    sys.exit(KernelSpecApp.launch_instance())\n",
      "  File \"C:\\Users\\HP\\anaconda3\\lib\\site-packages\\traitlets\\config\\application.py\", line 664, in launch_instance\n",
      "    app.start()\n",
      "  File \"C:\\Users\\HP\\anaconda3\\lib\\site-packages\\jupyter_client\\kernelspecapp.py\", line 273, in start\n",
      "    return self.subapp.start()\n",
      "  File \"C:\\Users\\HP\\anaconda3\\lib\\site-packages\\jupyter_client\\kernelspecapp.py\", line 143, in start\n",
      "    replace=self.replace,\n",
      "  File \"C:\\Users\\HP\\anaconda3\\lib\\site-packages\\jupyter_client\\kernelspec.py\", line 346, in install_kernel_spec\n",
      "    shutil.copytree(source_dir, destination)\n",
      "  File \"C:\\Users\\HP\\anaconda3\\lib\\shutil.py\", line 318, in copytree\n",
      "    names = os.listdir(src)\n",
      "FileNotFoundError: [WinError 3] The system cannot find the path specified: '$(opam var share)/jupyter'\n"
     ]
    }
   ],
   "source": [
    "!add-apt-repository ppa:avsm/ppa && apt-get update && apt-get install opam m4 libgmp-dev\n",
    "!opam init --disable-sandboxing -y \n",
    "!opam install jupyter\n",
    "!opam exec -- ocaml-jupyter-opam-genspec\n",
    "!jupyter kernelspec install --user --name ocaml-jupyter \"$(opam var share)/jupyter\""
   ]
  },
  {
   "cell_type": "markdown",
   "metadata": {
    "id": "Q5Htcs1F8-DY"
   },
   "source": [
    "This notebook lets you install an ocaml kernel for colab. In order to get started:\n",
    "- Click on \"OPEN IN PLAYGROUND\".\n",
    "- Run the cell below (this takes multiple minutes).\n",
    "- Once the cell has run you can use some [ocaml notebook](https://colab.research.google.com/drive/107_RyCzQVL9gn7ZjeuUg5xMyT5xOK9em) on the same colab instance.\n",
    "\n",
    "This works by this first installing the necessary apt packages, then installing opam (the ocaml package manager) and building the ocaml compiler, and finally building and installing the [ocaml-jupyter kernel](https://github.com/akabe/ocaml-jupyter).\n",
    "Note that when the instance gets disconnected, it gets resetted so you have to re-install the kernel.\n",
    "\n",
    "You can use the `use_cache` field in the form below in order to store the various binaries on your google drive the first time you run this, then re-installing should be a lot faster (this will require some google drive authentication).\n",
    "\n",
    "If your colab instance ends up in a bad state, Runtime > Reset all runtimes... should reset it.\n",
    "\n",
    "---\n",
    "\n"
   ]
  },
  {
   "cell_type": "code",
   "execution_count": 4,
   "metadata": {
    "cellView": "form",
    "id": "a16m43i1yUpd"
   },
   "outputs": [
    {
     "name": "stdout",
     "output_type": "stream",
     "text": [
      "Running the following commands:\n",
      "apt install libffi-dev libgmp-dev m4\n",
      "The system cannot find the path specified.\r\n",
      "\n"
     ]
    },
    {
     "ename": "ValueError",
     "evalue": "subprocess failed 1",
     "output_type": "error",
     "traceback": [
      "\u001b[1;31m---------------------------------------------------------------------------\u001b[0m",
      "\u001b[1;31mValueError\u001b[0m                                Traceback (most recent call last)",
      "\u001b[1;32m<ipython-input-4-8fa18cf12417>\u001b[0m in \u001b[0;36m<module>\u001b[1;34m\u001b[0m\n\u001b[0;32m     35\u001b[0m \u001b[1;33m\u001b[0m\u001b[0m\n\u001b[0;32m     36\u001b[0m \u001b[1;31m# Install the system packages.\u001b[0m\u001b[1;33m\u001b[0m\u001b[1;33m\u001b[0m\u001b[1;33m\u001b[0m\u001b[0m\n\u001b[1;32m---> 37\u001b[1;33m \u001b[0mrun_script\u001b[0m\u001b[1;33m(\u001b[0m\u001b[1;34m'apt install '\u001b[0m \u001b[1;33m+\u001b[0m \u001b[1;34m' '\u001b[0m\u001b[1;33m.\u001b[0m\u001b[0mjoin\u001b[0m\u001b[1;33m(\u001b[0m\u001b[0mapt_packages_\u001b[0m\u001b[1;33m)\u001b[0m\u001b[1;33m)\u001b[0m\u001b[1;33m\u001b[0m\u001b[1;33m\u001b[0m\u001b[0m\n\u001b[0m\u001b[0;32m     38\u001b[0m \u001b[1;33m\u001b[0m\u001b[0m\n\u001b[0;32m     39\u001b[0m \u001b[0mread_cache_\u001b[0m \u001b[1;33m=\u001b[0m \u001b[1;32mNone\u001b[0m\u001b[1;33m\u001b[0m\u001b[1;33m\u001b[0m\u001b[0m\n",
      "\u001b[1;32m<ipython-input-4-8fa18cf12417>\u001b[0m in \u001b[0;36mrun_script\u001b[1;34m(bash_script)\u001b[0m\n\u001b[0;32m     24\u001b[0m   \u001b[0mreturn_code\u001b[0m \u001b[1;33m=\u001b[0m \u001b[0mprocess\u001b[0m\u001b[1;33m.\u001b[0m\u001b[0mwait\u001b[0m\u001b[1;33m(\u001b[0m\u001b[1;33m)\u001b[0m\u001b[1;33m\u001b[0m\u001b[1;33m\u001b[0m\u001b[0m\n\u001b[0;32m     25\u001b[0m   \u001b[1;32mif\u001b[0m \u001b[0mreturn_code\u001b[0m\u001b[1;33m:\u001b[0m\u001b[1;33m\u001b[0m\u001b[1;33m\u001b[0m\u001b[0m\n\u001b[1;32m---> 26\u001b[1;33m     \u001b[1;32mraise\u001b[0m \u001b[0mValueError\u001b[0m\u001b[1;33m(\u001b[0m\u001b[1;34m'subprocess failed %d'\u001b[0m \u001b[1;33m%\u001b[0m \u001b[0mreturn_code\u001b[0m\u001b[1;33m)\u001b[0m\u001b[1;33m\u001b[0m\u001b[1;33m\u001b[0m\u001b[0m\n\u001b[0m\u001b[0;32m     27\u001b[0m \u001b[1;33m\u001b[0m\u001b[0m\n\u001b[0;32m     28\u001b[0m \u001b[0mbash_script\u001b[0m \u001b[1;33m=\u001b[0m \u001b[1;33m[\u001b[0m\u001b[1;33m]\u001b[0m\u001b[1;33m\u001b[0m\u001b[1;33m\u001b[0m\u001b[0m\n",
      "\u001b[1;31mValueError\u001b[0m: subprocess failed 1"
     ]
    }
   ],
   "source": [
    "use_cache = \"none\" #@param [\"none\", \"opam-cache.tgz\"] {allow-input: true}\n",
    "additional_apt_packages = \"none\" #@param [\"none\"] {allow-input: true}\n",
    "additional_opam_packages = \"none\" #@param [\"none\"] {allow-input: true}\n",
    "\n",
    "import os\n",
    "import subprocess\n",
    "\n",
    "if os.path.isdir('/root/.opam'):\n",
    "  raise ValueError('opam directory already exists')\n",
    "\n",
    "def run_script(bash_script):\n",
    "  print('Running the following commands:\\n%s' % bash_script)\n",
    "  env = dict(os.environ)\n",
    "  env['OCAML_INSTALL'] = bash_script\n",
    "  process = subprocess.Popen(\n",
    "    '/bin/bash -c \"$OCAML_INSTALL\"',\n",
    "    shell=True,\n",
    "    stdout=subprocess.PIPE,\n",
    "    stderr=subprocess.PIPE,\n",
    "    env=env)\n",
    "  stdout, stderr = process.communicate()\n",
    "  if stdout: print(stdout.decode())\n",
    "  if stderr: print(stderr.decode())\n",
    "  return_code = process.wait()\n",
    "  if return_code:\n",
    "    raise ValueError('subprocess failed %d' % return_code)\n",
    "\n",
    "bash_script = []\n",
    "\n",
    "apt_packages_ = [ 'libffi-dev', 'libgmp-dev', 'm4' ]\n",
    "if additional_apt_packages != \"none\": apt_packages_ += additional_apt_packages.split(' ')\n",
    "\n",
    "opam_packages_ = [ 'base', 'jupyter=2.7.2' ]\n",
    "if additional_opam_packages != \"none\": opam_packages_ += additional_opam_packages.split(' ')\n",
    "\n",
    "# Install the system packages.\n",
    "run_script('apt install ' + ' '.join(apt_packages_))\n",
    "\n",
    "read_cache_ = None\n",
    "write_cache_ = None\n",
    "if use_cache is not None and use_cache != 'none' and use_cache:\n",
    "  from google.colab import drive\n",
    "  drive.mount('/content/drive')\n",
    "  cache_file = '/content/drive/My Drive/' + use_cache\n",
    "  if os.path.isfile(cache_file):\n",
    "    read_cache_ = cache_file\n",
    "  else:\n",
    "    write_cache_ = cache_file\n",
    "\n",
    "# Install opam.\n",
    "run_script(\n",
    "  '(echo \"\" && yes Y) | (sh <(curl -sL https://raw.githubusercontent.com/ocaml/opam/master/shell/install.sh))')\n",
    "  \n",
    "if read_cache_ is None:\n",
    "  run_script('echo N | opam init --disable-sandboxing --compiler=4.07.1')\n",
    "  \n",
    "  # Install opam packages.\n",
    "  run_script('opam install -y ' + ' '.join(opam_packages_))\n",
    "  if write_cache_ is not None:\n",
    "    run_script('(cd; tar -czf \"%s\" .opam)' % write_cache_)\n",
    "else:\n",
    "  run_script('(cd; tar -xzf \"%s\")' % read_cache_)\n",
    "\n",
    "run_script('echo \\'#use \"topfind\";;\\' >> /root/.ocamlinit')\n",
    "run_script('/root/.opam/4.07.1/.opam-switch/sources/jupyter.2.7.2/config/ocaml-jupyter-opam-genspec')\n",
    "run_script('jupyter kernelspec install --name ocaml-jupyter /root/.opam/4.07.1/share/jupyter')"
   ]
  },
  {
   "cell_type": "code",
   "execution_count": 2,
   "metadata": {
    "id": "EIbwAQ2b55bR"
   },
   "outputs": [
    {
     "name": "stdout",
     "output_type": "stream",
     "text": [
      "Available kernels:\n",
      "  python3    C:\\Users\\HP\\anaconda3\\share\\jupyter\\kernels\\python3\n"
     ]
    }
   ],
   "source": [
    "# Running this cell lists all the installed jupyter kernel.\n",
    "# After running the previous cell, you should have an ocaml-jupyter kernel listed.\n",
    "!jupyter-kernelspec list"
   ]
  }
 ],
 "metadata": {
  "colab": {
   "collapsed_sections": [],
   "name": "install-ocaml-colab.ipynb",
   "provenance": []
  },
  "kernelspec": {
   "display_name": "Python 3",
   "language": "python",
   "name": "python3"
  },
  "language_info": {
   "codemirror_mode": {
    "name": "ipython",
    "version": 3
   },
   "file_extension": ".py",
   "mimetype": "text/x-python",
   "name": "python",
   "nbconvert_exporter": "python",
   "pygments_lexer": "ipython3",
   "version": "3.7.6"
  }
 },
 "nbformat": 4,
 "nbformat_minor": 1
}
